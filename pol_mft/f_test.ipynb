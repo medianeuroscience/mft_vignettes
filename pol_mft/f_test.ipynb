{
 "cells": [
  {
   "cell_type": "markdown",
   "id": "690c635b-7ba2-45f1-980d-efb75ac1f385",
   "metadata": {},
   "source": [
    "# F-Test Interaction Group X Condition"
   ]
  },
  {
   "cell_type": "markdown",
   "id": "c960193c-3e72-4a17-b5ec-c6795f0bca99",
   "metadata": {},
   "source": [
    "This notebook reports the results of the 2 x 7 mixed-effects ANOVA. \n",
    "\n",
    "Design matrix and parameter estimates were computed in SPM12 using the flexible factorial module. The design included the following main and interaction effects:\n",
    "\n",
    "- ME subject\n",
    "- ME group (liberal vs. conservative)\n",
    "- ME condition (7 moral versus social t-maps) \n",
    "- IE group x condition \n",
    "\n",
    "An F-test was then performed to obtain F-values for every voxel in the brain that showed significant (p < .0005, uncorrected) interactions. Clusters were determined for k > 10. "
   ]
  },
  {
   "cell_type": "code",
   "execution_count": 1,
   "id": "0bbb4e1a-53d1-43db-b065-f580b7bd3e62",
   "metadata": {},
   "outputs": [
    {
     "name": "stdout",
     "output_type": "stream",
     "text": [
      "The Python package you are importing, AtlasReader, is licensed under the\n",
      "BSD-3 license; however, the atlases it uses are separately licensed under more\n",
      "restrictive frameworks.\n",
      "By using AtlasReader, you agree to abide by the license terms of the\n",
      "individual atlases. Information on these terms can be found online at:\n",
      "https://github.com/miykael/atlasreader/tree/master/atlasreader/data\n",
      "\n"
     ]
    },
    {
     "name": "stderr",
     "output_type": "stream",
     "text": [
      "/opt/miniconda-latest/envs/neuro/lib/python3.7/site-packages/nilearn/datasets/__init__.py:89: FutureWarning: Fetchers from the nilearn.datasets module will be updated in version 0.9 to return python strings instead of bytes and Pandas dataframes instead of Numpy arrays.\n",
      "  \"Numpy arrays.\", FutureWarning)\n"
     ]
    }
   ],
   "source": [
    "from atlasreader import create_output"
   ]
  },
  {
   "cell_type": "code",
   "execution_count": 2,
   "id": "20ac2824-92fb-4691-b961-aa40b5349880",
   "metadata": {},
   "outputs": [
    {
     "name": "stderr",
     "output_type": "stream",
     "text": [
      "/opt/miniconda-latest/envs/neuro/lib/python3.7/site-packages/nilearn/_utils/niimg.py:62: UserWarning: Non-finite values detected. These values will be replaced with zeros.\n",
      "  \"Non-finite values detected. \"\n",
      "/opt/miniconda-latest/envs/neuro/lib/python3.7/site-packages/nilearn/_utils/niimg.py:62: UserWarning: Non-finite values detected. These values will be replaced with zeros.\n",
      "  \"Non-finite values detected. \"\n"
     ]
    }
   ],
   "source": [
    "stat_img = 'groupXcond_p0005_k10.nii'\n",
    "create_output(stat_img, outdir='clusters', cluster_extent=0)"
   ]
  },
  {
   "cell_type": "code",
   "execution_count": 14,
   "id": "7aa3d228-439b-4870-881c-0640794152e7",
   "metadata": {},
   "outputs": [],
   "source": [
    "from nilearn.plotting import plot_stat_map"
   ]
  },
  {
   "cell_type": "code",
   "execution_count": 31,
   "id": "9e010bfd-41e5-444c-a699-8f319bbdb03a",
   "metadata": {},
   "outputs": [],
   "source": [
    "plot_glass_brain(stat_img, colorbar=True, display_mode='lyrz', alpha=1, output_file='f_test_map.png')"
   ]
  },
  {
   "cell_type": "code",
   "execution_count": 32,
   "id": "cf649551-7884-4567-8c08-54a980dc7af3",
   "metadata": {},
   "outputs": [
    {
     "data": {
      "text/plain": [
       "sys.version_info(major=3, minor=7, micro=10, releaselevel='final', serial=0)"
      ]
     },
     "execution_count": 32,
     "metadata": {},
     "output_type": "execute_result"
    }
   ],
   "source": [
    "import sys\n",
    "sys.version_info"
   ]
  },
  {
   "cell_type": "code",
   "execution_count": null,
   "id": "2681e1a2-827f-4ade-81d6-e04e5acfe0b7",
   "metadata": {},
   "outputs": [],
   "source": []
  }
 ],
 "metadata": {
  "kernelspec": {
   "display_name": "Python 3 (ipykernel)",
   "language": "python",
   "name": "python3"
  },
  "language_info": {
   "codemirror_mode": {
    "name": "ipython",
    "version": 3
   },
   "file_extension": ".py",
   "mimetype": "text/x-python",
   "name": "python",
   "nbconvert_exporter": "python",
   "pygments_lexer": "ipython3",
   "version": "3.7.10"
  }
 },
 "nbformat": 4,
 "nbformat_minor": 5
}
