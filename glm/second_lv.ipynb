{
 "cells": [
  {
   "cell_type": "markdown",
   "id": "35cb4bd6",
   "metadata": {},
   "source": [
    "# Group-level Analysis Vignettes"
   ]
  },
  {
   "cell_type": "code",
   "execution_count": 1,
   "id": "037cd44d",
   "metadata": {},
   "outputs": [],
   "source": [
    "# Get the Node and Workflow object\n",
    "from nipype import Node, Workflow\n",
    "from nipype.interfaces.spm import OneSampleTTestDesign"
   ]
  },
  {
   "cell_type": "code",
   "execution_count": 2,
   "id": "765bc689",
   "metadata": {},
   "outputs": [
    {
     "name": "stdout",
     "output_type": "stream",
     "text": [
      "Running code as:  fhopp\n"
     ]
    }
   ],
   "source": [
    "# Get current user\n",
    "import getpass\n",
    "import os\n",
    "user = getpass.getuser()\n",
    "print('Running code as: ', user)\n",
    "\n",
    "exp_dir = '/home/{}/spm/analysis/vignettes/glm/spm/'.format(user)"
   ]
  },
  {
   "cell_type": "code",
   "execution_count": 3,
   "id": "815fc46e",
   "metadata": {},
   "outputs": [],
   "source": [
    "analysis2nd = Workflow(name='second_lv', base_dir=exp_dir)"
   ]
  },
  {
   "cell_type": "code",
   "execution_count": 4,
   "id": "3dc6aa90",
   "metadata": {},
   "outputs": [
    {
     "name": "stderr",
     "output_type": "stream",
     "text": [
      "stty: 'standard input': Inappropriate ioctl for device\n"
     ]
    }
   ],
   "source": [
    "onesamplettestdes = Node(OneSampleTTestDesign(), name=\"onesampttestdes\")"
   ]
  },
  {
   "cell_type": "code",
   "execution_count": 5,
   "id": "ae2a01bc",
   "metadata": {},
   "outputs": [],
   "source": [
    "from nipype.interfaces.spm import EstimateModel, EstimateContrast"
   ]
  },
  {
   "cell_type": "code",
   "execution_count": 6,
   "id": "db35763e",
   "metadata": {},
   "outputs": [],
   "source": [
    "level2estimate = Node(EstimateModel(estimation_method={'Classical': 1}),\n",
    "                      name=\"level2estimate\")\n",
    "\n",
    "level2conestimate = Node(EstimateContrast(group_contrast=True),\n",
    "                         name=\"level2conestimate\")"
   ]
  },
  {
   "cell_type": "code",
   "execution_count": 7,
   "id": "56352c07",
   "metadata": {},
   "outputs": [],
   "source": [
    "cont01 = ['Group', 'T', ['mean'], [1]]\n",
    "level2conestimate.inputs.contrasts = [cont01]"
   ]
  },
  {
   "cell_type": "code",
   "execution_count": 8,
   "id": "9ed2b36f",
   "metadata": {},
   "outputs": [],
   "source": [
    "analysis2nd.connect([(onesamplettestdes, level2estimate, [('spm_mat_file',\n",
    "                                                           'spm_mat_file')]),\n",
    "                     (level2estimate, level2conestimate, [('spm_mat_file',\n",
    "                                                           'spm_mat_file'),\n",
    "                                                          ('beta_images',\n",
    "                                                           'beta_images'),\n",
    "                                                          ('residual_image',\n",
    "                                                           'residual_image')])\n",
    "                    ])"
   ]
  },
  {
   "cell_type": "code",
   "execution_count": 9,
   "id": "3a67e4ad",
   "metadata": {},
   "outputs": [],
   "source": [
    "from nipype.interfaces.spm import Threshold"
   ]
  },
  {
   "cell_type": "code",
   "execution_count": 10,
   "id": "093fff50",
   "metadata": {},
   "outputs": [],
   "source": [
    "level2thresh = Node(Threshold(contrast_index=1,\n",
    "                              use_topo_fdr=True,\n",
    "                              use_fwe_correction=False,\n",
    "                              extent_threshold=0,\n",
    "                              height_threshold=0.001,\n",
    "                              height_threshold_type='p-value',\n",
    "                              extent_fdr_p_threshold=0.01),\n",
    "                    name=\"level2thresh\")"
   ]
  },
  {
   "cell_type": "code",
   "execution_count": 11,
   "id": "fabfb8f1",
   "metadata": {},
   "outputs": [],
   "source": [
    "analysis2nd.connect([(level2conestimate, level2thresh, [('spm_mat_file',\n",
    "                                                         'spm_mat_file'),\n",
    "                                                        ('spmT_images',\n",
    "                                                         'stat_image'),\n",
    "                                                       ])\n",
    "                    ])"
   ]
  },
  {
   "cell_type": "code",
   "execution_count": 12,
   "id": "c473627a",
   "metadata": {},
   "outputs": [],
   "source": [
    "# Import the SelectFiles\n",
    "from nipype import SelectFiles\n",
    "\n",
    "# String template with {}-based strings\n",
    "templates = {'cons': '/home/fhopp/spm/analysis/vignettes/glm/spm/first_lv/_subject_id_sub-*/level1conest/con_{cont_id}.nii'}\n",
    "\n",
    "\n",
    "# Create SelectFiles node\n",
    "sf = Node(SelectFiles(templates, sort_filelist=True),\n",
    "          name='selectfiles')"
   ]
  },
  {
   "cell_type": "code",
   "execution_count": 13,
   "id": "4ca42d3b",
   "metadata": {},
   "outputs": [],
   "source": [
    "# list of contrast identifiers (see first_lv.py for definitions)\n",
    "contrast_id_list = [\n",
    "                    '0018', '0019', '0020', '0021', '0022',\n",
    "                    '0023', '0024', '0025', '0026']\n",
    "sf.iterables = [('cont_id', contrast_id_list)]"
   ]
  },
  {
   "cell_type": "code",
   "execution_count": 14,
   "id": "d60d5a6d",
   "metadata": {},
   "outputs": [],
   "source": [
    "analysis2nd.connect([(sf, onesamplettestdes, [('cons', 'in_files')])])"
   ]
  },
  {
   "cell_type": "code",
   "execution_count": 15,
   "id": "06042673",
   "metadata": {},
   "outputs": [],
   "source": [
    "from nipype.interfaces.io import DataSink"
   ]
  },
  {
   "cell_type": "code",
   "execution_count": 16,
   "id": "a7a2334a",
   "metadata": {},
   "outputs": [],
   "source": [
    "# Initiate the datasink node\n",
    "output_folder = 'second_lv/datasink'\n",
    "datasink = Node(DataSink(base_directory=exp_dir,\n",
    "                         container=output_folder),\n",
    "                name=\"datasink\")"
   ]
  },
  {
   "cell_type": "code",
   "execution_count": 17,
   "id": "4773829c",
   "metadata": {},
   "outputs": [],
   "source": [
    "## Use the following substitutions for the DataSink output\n",
    "substitutions = [('_cont_id_', 'con_')]\n",
    "datasink.inputs.substitutions = substitutions"
   ]
  },
  {
   "cell_type": "code",
   "execution_count": 18,
   "id": "cbbce09b",
   "metadata": {},
   "outputs": [],
   "source": [
    "analysis2nd.connect([(level2conestimate, datasink, [('spm_mat_file',\n",
    "                                                     '2ndLevel.@spm_mat'),\n",
    "                                                    ('spmT_images',\n",
    "                                                     '2ndLevel.@T'),\n",
    "                                                    ('con_images',\n",
    "                                                     '2ndLevel.@con')]),\n",
    "                    (level2thresh, datasink, [('thresholded_map',\n",
    "                                               '2ndLevel.@threshold')])\n",
    "                     ])"
   ]
  },
  {
   "cell_type": "code",
   "execution_count": 19,
   "id": "f8585169",
   "metadata": {},
   "outputs": [
    {
     "name": "stdout",
     "output_type": "stream",
     "text": [
      "220825-09:59:43,71 nipype.workflow INFO:\n",
      "\t Generated workflow graph: /home/fhopp/spm/analysis/vignettes/glm/spm/second_lv/graph_detailed.png (graph2use=exec, simple_form=False).\n"
     ]
    }
   ],
   "source": [
    "analysis2nd.write_graph(graph2use='exec', format='png', simple_form=False)\n",
    "analysis2nd.config[\"execution\"][\"crashfile_format\"] = \"txt\""
   ]
  },
  {
   "cell_type": "code",
   "execution_count": 20,
   "id": "6a868007",
   "metadata": {
    "tags": []
   },
   "outputs": [
    {
     "name": "stdout",
     "output_type": "stream",
     "text": [
      "220825-09:59:43,86 nipype.workflow INFO:\n",
      "\t Workflow second_lv settings: ['check', 'execution', 'logging', 'monitoring']\n",
      "220825-09:59:43,149 nipype.workflow INFO:\n",
      "\t Running in parallel.\n",
      "220825-09:59:43,159 nipype.workflow INFO:\n",
      "\t [MultiProc] Running 0 tasks, and 9 jobs ready. Free memory (GB): 28.17/28.17, Free processors: 7/7.\n",
      "220825-09:59:43,206 nipype.workflow INFO:\n",
      "\t [Node] Setting-up \"second_lv.selectfiles\" in \"/home/fhopp/spm/analysis/vignettes/glm/spm/second_lv/_cont_id_0018/selectfiles\".\n",
      "220825-09:59:43,208 nipype.workflow INFO:\n",
      "\t [Node] Setting-up \"second_lv.selectfiles\" in \"/home/fhopp/spm/analysis/vignettes/glm/spm/second_lv/_cont_id_0019/selectfiles\".\n",
      "220825-09:59:43,210 nipype.workflow INFO:\n",
      "\t [Node] Setting-up \"second_lv.selectfiles\" in \"/home/fhopp/spm/analysis/vignettes/glm/spm/second_lv/_cont_id_0020/selectfiles\".\n",
      "220825-09:59:43,212 nipype.workflow INFO:\n",
      "\t [Node] Setting-up \"second_lv.selectfiles\" in \"/home/fhopp/spm/analysis/vignettes/glm/spm/second_lv/_cont_id_0021/selectfiles\".\n",
      "220825-09:59:43,213 nipype.workflow INFO:\n",
      "\t [Node] Setting-up \"second_lv.selectfiles\" in \"/home/fhopp/spm/analysis/vignettes/glm/spm/second_lv/_cont_id_0022/selectfiles\".\n",
      "220825-09:59:43,215 nipype.workflow INFO:\n",
      "\t [Node] Setting-up \"second_lv.selectfiles\" in \"/home/fhopp/spm/analysis/vignettes/glm/spm/second_lv/_cont_id_0023/selectfiles\".\n",
      "220825-09:59:43,216 nipype.workflow INFO:\n",
      "\t [Node] Setting-up \"second_lv.selectfiles\" in \"/home/fhopp/spm/analysis/vignettes/glm/spm/second_lv/_cont_id_0024/selectfiles\".\n",
      "220825-09:59:43,222 nipype.workflow INFO:\n",
      "\t [Node] Running \"selectfiles\" (\"nipype.interfaces.io.SelectFiles\")\n",
      "220825-09:59:43,224 nipype.workflow INFO:\n",
      "\t [Node] Running \"selectfiles\" (\"nipype.interfaces.io.SelectFiles\")\n",
      "220825-09:59:43,225 nipype.workflow INFO:\n",
      "\t [Node] Running \"selectfiles\" (\"nipype.interfaces.io.SelectFiles\")\n",
      "220825-09:59:43,227 nipype.workflow INFO:\n",
      "\t [Node] Running \"selectfiles\" (\"nipype.interfaces.io.SelectFiles\")\n",
      "220825-09:59:43,228 nipype.workflow INFO:\n",
      "\t [Node] Running \"selectfiles\" (\"nipype.interfaces.io.SelectFiles\")\n",
      "220825-09:59:43,239 nipype.workflow INFO:\n",
      "\t [Node] Running \"selectfiles\" (\"nipype.interfaces.io.SelectFiles\")\n",
      "220825-09:59:43,241 nipype.workflow INFO:\n",
      "\t [Node] Running \"selectfiles\" (\"nipype.interfaces.io.SelectFiles\")\n",
      "220825-09:59:43,282 nipype.workflow INFO:\n",
      "\t [Node] Finished \"second_lv.selectfiles\".\n",
      "220825-09:59:43,282 nipype.workflow INFO:\n",
      "\t [Node] Finished \"second_lv.selectfiles\".\n",
      "220825-09:59:43,282 nipype.workflow INFO:\n",
      "\t [Node] Finished \"second_lv.selectfiles\".\n",
      "220825-09:59:43,282 nipype.workflow INFO:\n",
      "\t [Node] Finished \"second_lv.selectfiles\".\n",
      "220825-09:59:43,282 nipype.workflow INFO:\n",
      "\t [Node] Finished \"second_lv.selectfiles\".\n",
      "220825-09:59:43,282 nipype.workflow INFO:\n",
      "\t [Node] Finished \"second_lv.selectfiles\".\n",
      "220825-09:59:43,283 nipype.workflow INFO:\n",
      "\t [Node] Finished \"second_lv.selectfiles\".\n",
      "220825-09:59:45,161 nipype.workflow INFO:\n",
      "\t [Job 0] Completed (second_lv.selectfiles).\n",
      "220825-09:59:45,162 nipype.workflow INFO:\n",
      "\t [Job 1] Completed (second_lv.selectfiles).\n",
      "220825-09:59:45,163 nipype.workflow INFO:\n",
      "\t [Job 2] Completed (second_lv.selectfiles).\n",
      "220825-09:59:45,164 nipype.workflow INFO:\n",
      "\t [Job 3] Completed (second_lv.selectfiles).\n",
      "220825-09:59:45,165 nipype.workflow INFO:\n",
      "\t [Job 4] Completed (second_lv.selectfiles).\n",
      "220825-09:59:45,166 nipype.workflow INFO:\n",
      "\t [Job 5] Completed (second_lv.selectfiles).\n",
      "220825-09:59:45,167 nipype.workflow INFO:\n",
      "\t [Job 6] Completed (second_lv.selectfiles).\n",
      "220825-09:59:45,168 nipype.workflow INFO:\n",
      "\t [MultiProc] Running 0 tasks, and 9 jobs ready. Free memory (GB): 28.17/28.17, Free processors: 7/7.\n",
      "220825-09:59:45,203 nipype.workflow INFO:\n",
      "\t [Node] Setting-up \"second_lv.selectfiles\" in \"/home/fhopp/spm/analysis/vignettes/glm/spm/second_lv/_cont_id_0025/selectfiles\".\n",
      "220825-09:59:45,204 nipype.workflow INFO:\n",
      "\t [Node] Setting-up \"second_lv.selectfiles\" in \"/home/fhopp/spm/analysis/vignettes/glm/spm/second_lv/_cont_id_0026/selectfiles\".\n",
      "220825-09:59:45,211 nipype.workflow INFO:\n",
      "\t [Job 9] Cached (second_lv.onesampttestdes).\n",
      "220825-09:59:45,213 nipype.workflow INFO:\n",
      "\t [Node] Running \"selectfiles\" (\"nipype.interfaces.io.SelectFiles\")\n",
      "220825-09:59:45,219 nipype.workflow INFO:\n",
      "\t [Job 10] Cached (second_lv.onesampttestdes).\n",
      "220825-09:59:45,227 nipype.workflow INFO:\n",
      "\t [Job 11] Cached (second_lv.onesampttestdes).\n",
      "220825-09:59:45,235 nipype.workflow INFO:\n",
      "\t [Job 12] Cached (second_lv.onesampttestdes).\n",
      "220825-09:59:45,239 nipype.workflow INFO:\n",
      "\t [Node] Finished \"second_lv.selectfiles\".\n",
      "220825-09:59:45,244 nipype.workflow INFO:\n",
      "\t [Job 13] Cached (second_lv.onesampttestdes).\n",
      "220825-09:59:45,243 nipype.workflow INFO:\n",
      "\t [Node] Running \"selectfiles\" (\"nipype.interfaces.io.SelectFiles\")\n",
      "220825-09:59:45,268 nipype.workflow INFO:\n",
      "\t [Node] Finished \"second_lv.selectfiles\".\n",
      "220825-09:59:47,163 nipype.workflow INFO:\n",
      "\t [Job 7] Completed (second_lv.selectfiles).\n",
      "220825-09:59:47,164 nipype.workflow INFO:\n",
      "\t [Job 8] Completed (second_lv.selectfiles).\n",
      "220825-09:59:47,165 nipype.workflow INFO:\n",
      "\t [MultiProc] Running 0 tasks, and 9 jobs ready. Free memory (GB): 28.17/28.17, Free processors: 7/7.\n",
      "220825-09:59:47,194 nipype.workflow INFO:\n",
      "\t [Job 14] Cached (second_lv.onesampttestdes).\n",
      "220825-09:59:47,203 nipype.workflow INFO:\n",
      "\t [Job 15] Cached (second_lv.onesampttestdes).\n",
      "220825-09:59:47,211 nipype.workflow INFO:\n",
      "\t [Job 16] Cached (second_lv.onesampttestdes).\n",
      "220825-09:59:47,218 nipype.workflow INFO:\n",
      "\t [Job 17] Cached (second_lv.onesampttestdes).\n",
      "220825-09:59:47,236 nipype.workflow INFO:\n",
      "\t [Job 18] Cached (second_lv.level2estimate).\n",
      "220825-09:59:47,261 nipype.workflow INFO:\n",
      "\t [Job 19] Cached (second_lv.level2estimate).\n",
      "220825-09:59:47,270 nipype.workflow INFO:\n",
      "\t [Job 20] Cached (second_lv.level2estimate).\n",
      "220825-09:59:49,212 nipype.workflow INFO:\n",
      "\t [Job 21] Cached (second_lv.level2estimate).\n",
      "220825-09:59:49,224 nipype.workflow INFO:\n",
      "\t [Job 22] Cached (second_lv.level2estimate).\n",
      "220825-09:59:49,240 nipype.workflow INFO:\n",
      "\t [Job 23] Cached (second_lv.level2estimate).\n",
      "220825-09:59:49,257 nipype.workflow INFO:\n",
      "\t [Job 24] Cached (second_lv.level2estimate).\n",
      "220825-09:59:49,264 nipype.workflow INFO:\n",
      "\t [Job 25] Cached (second_lv.level2estimate).\n",
      "220825-09:59:49,275 nipype.workflow INFO:\n",
      "\t [Job 26] Cached (second_lv.level2estimate).\n",
      "220825-09:59:49,291 nipype.workflow INFO:\n",
      "\t [Job 27] Cached (second_lv.level2conestimate).\n",
      "220825-09:59:51,465 nipype.workflow INFO:\n",
      "\t [Job 28] Cached (second_lv.level2conestimate).\n",
      "220825-09:59:51,484 nipype.workflow INFO:\n",
      "\t [Job 29] Cached (second_lv.level2conestimate).\n",
      "220825-09:59:51,580 nipype.workflow INFO:\n",
      "\t [Job 30] Cached (second_lv.level2conestimate).\n",
      "220825-09:59:51,599 nipype.workflow INFO:\n",
      "\t [Job 31] Cached (second_lv.level2conestimate).\n",
      "220825-09:59:51,615 nipype.workflow INFO:\n",
      "\t [Job 32] Cached (second_lv.level2conestimate).\n",
      "220825-09:59:51,637 nipype.workflow INFO:\n",
      "\t [Job 33] Cached (second_lv.level2conestimate).\n",
      "220825-09:59:51,649 nipype.workflow INFO:\n",
      "\t [Job 34] Cached (second_lv.level2conestimate).\n",
      "220825-09:59:53,204 nipype.workflow INFO:\n",
      "\t [Job 35] Cached (second_lv.level2conestimate).\n",
      "220825-09:59:53,223 nipype.workflow INFO:\n",
      "\t [Job 36] Cached (second_lv.level2thresh).\n",
      "220825-09:59:53,238 nipype.workflow INFO:\n",
      "\t [Job 37] Cached (second_lv.level2thresh).\n",
      "220825-09:59:53,259 nipype.workflow INFO:\n",
      "\t [Job 38] Cached (second_lv.level2thresh).\n",
      "220825-09:59:53,281 nipype.workflow INFO:\n",
      "\t [Job 39] Cached (second_lv.level2thresh).\n",
      "220825-09:59:53,302 nipype.workflow INFO:\n",
      "\t [Job 40] Cached (second_lv.level2thresh).\n",
      "220825-09:59:53,317 nipype.workflow INFO:\n",
      "\t [Job 41] Cached (second_lv.level2thresh).\n",
      "220825-09:59:55,216 nipype.workflow INFO:\n",
      "\t [Job 42] Cached (second_lv.level2thresh).\n",
      "220825-09:59:55,235 nipype.workflow INFO:\n",
      "\t [Job 43] Cached (second_lv.level2thresh).\n",
      "220825-09:59:55,278 nipype.workflow INFO:\n",
      "\t [Job 44] Cached (second_lv.level2thresh).\n",
      "220825-09:59:55,304 nipype.workflow INFO:\n",
      "\t [Node] Setting-up \"second_lv.datasink\" in \"/home/fhopp/spm/analysis/vignettes/glm/spm/second_lv/_cont_id_0018/datasink\".\n",
      "220825-09:59:55,315 nipype.workflow INFO:\n",
      "\t [Node] Setting-up \"second_lv.datasink\" in \"/home/fhopp/spm/analysis/vignettes/glm/spm/second_lv/_cont_id_0019/datasink\".\n",
      "220825-09:59:55,335 nipype.workflow INFO:\n",
      "\t [Node] Setting-up \"second_lv.datasink\" in \"/home/fhopp/spm/analysis/vignettes/glm/spm/second_lv/_cont_id_0020/datasink\".\n",
      "220825-09:59:55,348 nipype.workflow INFO:\n",
      "\t [Node] Setting-up \"second_lv.datasink\" in \"/home/fhopp/spm/analysis/vignettes/glm/spm/second_lv/_cont_id_0021/datasink\".\n",
      "220825-09:59:55,393 nipype.workflow INFO:\n",
      "\t [Node] Running \"datasink\" (\"nipype.interfaces.io.DataSink\")\n",
      "220825-09:59:55,395 nipype.interface INFO:\n",
      "\t sub: /home/fhopp/spm/analysis/vignettes/glm/spm/second_lv/datasink/2ndLevel/_cont_id_0019/SPM.mat -> /home/fhopp/spm/analysis/vignettes/glm/spm/second_lv/datasink/2ndLevel/con_0019/SPM.mat\n",
      "220825-09:59:55,395 nipype.workflow INFO:\n",
      "\t [Node] Running \"datasink\" (\"nipype.interfaces.io.DataSink\")\n",
      "220825-09:59:55,395 nipype.workflow INFO:\n",
      "\t [Node] Running \"datasink\" (\"nipype.interfaces.io.DataSink\")\n",
      "220825-09:59:55,397 nipype.interface INFO:\n",
      "\t sub: /home/fhopp/spm/analysis/vignettes/glm/spm/second_lv/datasink/2ndLevel/_cont_id_0018/SPM.mat -> /home/fhopp/spm/analysis/vignettes/glm/spm/second_lv/datasink/2ndLevel/con_0018/SPM.mat\n",
      "220825-09:59:55,397 nipype.interface INFO:\n",
      "\t sub: /home/fhopp/spm/analysis/vignettes/glm/spm/second_lv/datasink/2ndLevel/_cont_id_0021/SPM.mat -> /home/fhopp/spm/analysis/vignettes/glm/spm/second_lv/datasink/2ndLevel/con_0021/SPM.mat\n",
      "220825-09:59:55,397 nipype.interface INFO:\n",
      "\t sub: /home/fhopp/spm/analysis/vignettes/glm/spm/second_lv/datasink/2ndLevel/_cont_id_0019/spmT_0001.nii -> /home/fhopp/spm/analysis/vignettes/glm/spm/second_lv/datasink/2ndLevel/con_0019/spmT_0001.nii\n",
      "220825-09:59:55,398 nipype.interface INFO:\n",
      "\t sub: /home/fhopp/spm/analysis/vignettes/glm/spm/second_lv/datasink/2ndLevel/_cont_id_0019/con_0001.nii -> /home/fhopp/spm/analysis/vignettes/glm/spm/second_lv/datasink/2ndLevel/con_0019/con_0001.nii\n",
      "220825-09:59:55,398 nipype.interface INFO:\n",
      "\t sub: /home/fhopp/spm/analysis/vignettes/glm/spm/second_lv/datasink/2ndLevel/_cont_id_0021/spmT_0001.nii -> /home/fhopp/spm/analysis/vignettes/glm/spm/second_lv/datasink/2ndLevel/con_0021/spmT_0001.nii\n",
      "220825-09:59:55,398 nipype.interface INFO:\n",
      "\t sub: /home/fhopp/spm/analysis/vignettes/glm/spm/second_lv/datasink/2ndLevel/_cont_id_0018/spmT_0001.nii -> /home/fhopp/spm/analysis/vignettes/glm/spm/second_lv/datasink/2ndLevel/con_0018/spmT_0001.nii\n",
      "220825-09:59:55,399 nipype.interface INFO:\n",
      "\t sub: /home/fhopp/spm/analysis/vignettes/glm/spm/second_lv/datasink/2ndLevel/_cont_id_0019/spmT_0001_thr.nii -> /home/fhopp/spm/analysis/vignettes/glm/spm/second_lv/datasink/2ndLevel/con_0019/spmT_0001_thr.nii\n",
      "220825-09:59:55,400 nipype.interface INFO:\n",
      "\t sub: /home/fhopp/spm/analysis/vignettes/glm/spm/second_lv/datasink/2ndLevel/_cont_id_0021/con_0001.nii -> /home/fhopp/spm/analysis/vignettes/glm/spm/second_lv/datasink/2ndLevel/con_0021/con_0001.nii\n",
      "220825-09:59:55,400 nipype.interface INFO:\n",
      "\t sub: /home/fhopp/spm/analysis/vignettes/glm/spm/second_lv/datasink/2ndLevel/_cont_id_0018/con_0001.nii -> /home/fhopp/spm/analysis/vignettes/glm/spm/second_lv/datasink/2ndLevel/con_0018/con_0001.nii\n",
      "220825-09:59:55,401 nipype.interface INFO:\n",
      "\t sub: /home/fhopp/spm/analysis/vignettes/glm/spm/second_lv/datasink/2ndLevel/_cont_id_0018/spmT_0001_thr.nii -> /home/fhopp/spm/analysis/vignettes/glm/spm/second_lv/datasink/2ndLevel/con_0018/spmT_0001_thr.nii\n",
      "220825-09:59:55,402 nipype.workflow INFO:\n",
      "\t [Node] Running \"datasink\" (\"nipype.interfaces.io.DataSink\")\n",
      "220825-09:59:55,403 nipype.interface INFO:\n",
      "\t sub: /home/fhopp/spm/analysis/vignettes/glm/spm/second_lv/datasink/2ndLevel/_cont_id_0020/SPM.mat -> /home/fhopp/spm/analysis/vignettes/glm/spm/second_lv/datasink/2ndLevel/con_0020/SPM.mat\n",
      "220825-09:59:55,401 nipype.interface INFO:\n",
      "\t sub: /home/fhopp/spm/analysis/vignettes/glm/spm/second_lv/datasink/2ndLevel/_cont_id_0021/spmT_0001_thr.nii -> /home/fhopp/spm/analysis/vignettes/glm/spm/second_lv/datasink/2ndLevel/con_0021/spmT_0001_thr.nii\n",
      "220825-09:59:55,408 nipype.interface INFO:\n",
      "\t sub: /home/fhopp/spm/analysis/vignettes/glm/spm/second_lv/datasink/2ndLevel/_cont_id_0020/spmT_0001.nii -> /home/fhopp/spm/analysis/vignettes/glm/spm/second_lv/datasink/2ndLevel/con_0020/spmT_0001.nii\n",
      "220825-09:59:55,410 nipype.interface INFO:\n",
      "\t sub: /home/fhopp/spm/analysis/vignettes/glm/spm/second_lv/datasink/2ndLevel/_cont_id_0020/con_0001.nii -> /home/fhopp/spm/analysis/vignettes/glm/spm/second_lv/datasink/2ndLevel/con_0020/con_0001.nii\n",
      "220825-09:59:55,411 nipype.interface INFO:\n",
      "\t sub: /home/fhopp/spm/analysis/vignettes/glm/spm/second_lv/datasink/2ndLevel/_cont_id_0020/spmT_0001_thr.nii -> /home/fhopp/spm/analysis/vignettes/glm/spm/second_lv/datasink/2ndLevel/con_0020/spmT_0001_thr.nii\n",
      "220825-09:59:55,412 nipype.workflow INFO:\n",
      "\t [Node] Finished \"second_lv.datasink\".\n",
      "220825-09:59:55,413 nipype.workflow INFO:\n",
      "\t [Node] Finished \"second_lv.datasink\".\n",
      "220825-09:59:55,416 nipype.workflow INFO:\n",
      "\t [Node] Finished \"second_lv.datasink\".\n",
      "220825-09:59:55,420 nipype.workflow INFO:\n",
      "\t [Node] Finished \"second_lv.datasink\".\n",
      "220825-09:59:57,172 nipype.workflow INFO:\n",
      "\t [Job 45] Completed (second_lv.datasink).\n",
      "220825-09:59:57,173 nipype.workflow INFO:\n",
      "\t [Job 46] Completed (second_lv.datasink).\n",
      "220825-09:59:57,174 nipype.workflow INFO:\n",
      "\t [Job 47] Completed (second_lv.datasink).\n",
      "220825-09:59:57,175 nipype.workflow INFO:\n",
      "\t [Job 48] Completed (second_lv.datasink).\n",
      "220825-09:59:57,176 nipype.workflow INFO:\n",
      "\t [MultiProc] Running 0 tasks, and 5 jobs ready. Free memory (GB): 28.17/28.17, Free processors: 7/7.\n",
      "220825-09:59:57,216 nipype.workflow INFO:\n",
      "\t [Node] Setting-up \"second_lv.datasink\" in \"/home/fhopp/spm/analysis/vignettes/glm/spm/second_lv/_cont_id_0022/datasink\".\n",
      "220825-09:59:57,241 nipype.workflow INFO:\n",
      "\t [Node] Running \"datasink\" (\"nipype.interfaces.io.DataSink\")\n",
      "220825-09:59:57,242 nipype.workflow INFO:\n",
      "\t [Node] Setting-up \"second_lv.datasink\" in \"/home/fhopp/spm/analysis/vignettes/glm/spm/second_lv/_cont_id_0023/datasink\".\n",
      "220825-09:59:57,243 nipype.interface INFO:\n",
      "\t sub: /home/fhopp/spm/analysis/vignettes/glm/spm/second_lv/datasink/2ndLevel/_cont_id_0022/SPM.mat -> /home/fhopp/spm/analysis/vignettes/glm/spm/second_lv/datasink/2ndLevel/con_0022/SPM.mat\n",
      "220825-09:59:57,245 nipype.interface INFO:\n",
      "\t sub: /home/fhopp/spm/analysis/vignettes/glm/spm/second_lv/datasink/2ndLevel/_cont_id_0022/spmT_0001.nii -> /home/fhopp/spm/analysis/vignettes/glm/spm/second_lv/datasink/2ndLevel/con_0022/spmT_0001.nii\n",
      "220825-09:59:57,245 nipype.interface INFO:\n",
      "\t sub: /home/fhopp/spm/analysis/vignettes/glm/spm/second_lv/datasink/2ndLevel/_cont_id_0022/con_0001.nii -> /home/fhopp/spm/analysis/vignettes/glm/spm/second_lv/datasink/2ndLevel/con_0022/con_0001.nii\n",
      "220825-09:59:57,246 nipype.interface INFO:\n",
      "\t sub: /home/fhopp/spm/analysis/vignettes/glm/spm/second_lv/datasink/2ndLevel/_cont_id_0022/spmT_0001_thr.nii -> /home/fhopp/spm/analysis/vignettes/glm/spm/second_lv/datasink/2ndLevel/con_0022/spmT_0001_thr.nii\n",
      "220825-09:59:57,255 nipype.workflow INFO:\n",
      "\t [Node] Finished \"second_lv.datasink\".\n",
      "220825-09:59:57,259 nipype.workflow INFO:\n",
      "\t [Node] Setting-up \"second_lv.datasink\" in \"/home/fhopp/spm/analysis/vignettes/glm/spm/second_lv/_cont_id_0024/datasink\".\n",
      "220825-09:59:57,274 nipype.workflow INFO:\n",
      "\t [Node] Setting-up \"second_lv.datasink\" in \"/home/fhopp/spm/analysis/vignettes/glm/spm/second_lv/_cont_id_0025/datasink\".\n",
      "220825-09:59:57,285 nipype.workflow INFO:\n",
      "\t [Node] Running \"datasink\" (\"nipype.interfaces.io.DataSink\")\n",
      "220825-09:59:57,287 nipype.interface INFO:\n",
      "\t sub: /home/fhopp/spm/analysis/vignettes/glm/spm/second_lv/datasink/2ndLevel/_cont_id_0024/SPM.mat -> /home/fhopp/spm/analysis/vignettes/glm/spm/second_lv/datasink/2ndLevel/con_0024/SPM.mat\n",
      "220825-09:59:57,289 nipype.interface INFO:\n",
      "\t sub: /home/fhopp/spm/analysis/vignettes/glm/spm/second_lv/datasink/2ndLevel/_cont_id_0024/spmT_0001.nii -> /home/fhopp/spm/analysis/vignettes/glm/spm/second_lv/datasink/2ndLevel/con_0024/spmT_0001.nii\n",
      "220825-09:59:57,290 nipype.interface INFO:\n",
      "\t sub: /home/fhopp/spm/analysis/vignettes/glm/spm/second_lv/datasink/2ndLevel/_cont_id_0024/con_0001.nii -> /home/fhopp/spm/analysis/vignettes/glm/spm/second_lv/datasink/2ndLevel/con_0024/con_0001.nii\n",
      "220825-09:59:57,291 nipype.interface INFO:\n",
      "\t sub: /home/fhopp/spm/analysis/vignettes/glm/spm/second_lv/datasink/2ndLevel/_cont_id_0024/spmT_0001_thr.nii -> /home/fhopp/spm/analysis/vignettes/glm/spm/second_lv/datasink/2ndLevel/con_0024/spmT_0001_thr.nii\n",
      "220825-09:59:57,292 nipype.workflow INFO:\n",
      "\t [Node] Setting-up \"second_lv.datasink\" in \"/home/fhopp/spm/analysis/vignettes/glm/spm/second_lv/_cont_id_0026/datasink\".\n",
      "220825-09:59:57,297 nipype.workflow INFO:\n",
      "\t [Node] Running \"datasink\" (\"nipype.interfaces.io.DataSink\")\n",
      "220825-09:59:57,298 nipype.interface INFO:\n",
      "\t sub: /home/fhopp/spm/analysis/vignettes/glm/spm/second_lv/datasink/2ndLevel/_cont_id_0023/SPM.mat -> /home/fhopp/spm/analysis/vignettes/glm/spm/second_lv/datasink/2ndLevel/con_0023/SPM.mat\n",
      "220825-09:59:57,300 nipype.interface INFO:\n",
      "\t sub: /home/fhopp/spm/analysis/vignettes/glm/spm/second_lv/datasink/2ndLevel/_cont_id_0023/spmT_0001.nii -> /home/fhopp/spm/analysis/vignettes/glm/spm/second_lv/datasink/2ndLevel/con_0023/spmT_0001.nii\n",
      "220825-09:59:57,300 nipype.workflow INFO:\n",
      "\t [Node] Finished \"second_lv.datasink\".\n",
      "220825-09:59:57,301 nipype.interface INFO:\n",
      "\t sub: /home/fhopp/spm/analysis/vignettes/glm/spm/second_lv/datasink/2ndLevel/_cont_id_0023/con_0001.nii -> /home/fhopp/spm/analysis/vignettes/glm/spm/second_lv/datasink/2ndLevel/con_0023/con_0001.nii\n",
      "220825-09:59:57,302 nipype.interface INFO:\n",
      "\t sub: /home/fhopp/spm/analysis/vignettes/glm/spm/second_lv/datasink/2ndLevel/_cont_id_0023/spmT_0001_thr.nii -> /home/fhopp/spm/analysis/vignettes/glm/spm/second_lv/datasink/2ndLevel/con_0023/spmT_0001_thr.nii\n",
      "220825-09:59:57,310 nipype.workflow INFO:\n",
      "\t [Node] Finished \"second_lv.datasink\".\n",
      "220825-09:59:57,344 nipype.workflow INFO:\n",
      "\t [Node] Running \"datasink\" (\"nipype.interfaces.io.DataSink\")\n",
      "220825-09:59:57,346 nipype.interface INFO:\n",
      "\t sub: /home/fhopp/spm/analysis/vignettes/glm/spm/second_lv/datasink/2ndLevel/_cont_id_0026/SPM.mat -> /home/fhopp/spm/analysis/vignettes/glm/spm/second_lv/datasink/2ndLevel/con_0026/SPM.mat\n",
      "220825-09:59:57,346 nipype.workflow INFO:\n",
      "\t [Node] Running \"datasink\" (\"nipype.interfaces.io.DataSink\")\n",
      "220825-09:59:57,347 nipype.interface INFO:\n",
      "\t sub: /home/fhopp/spm/analysis/vignettes/glm/spm/second_lv/datasink/2ndLevel/_cont_id_0025/SPM.mat -> /home/fhopp/spm/analysis/vignettes/glm/spm/second_lv/datasink/2ndLevel/con_0025/SPM.mat\n",
      "220825-09:59:57,347 nipype.interface INFO:\n",
      "\t sub: /home/fhopp/spm/analysis/vignettes/glm/spm/second_lv/datasink/2ndLevel/_cont_id_0026/spmT_0001.nii -> /home/fhopp/spm/analysis/vignettes/glm/spm/second_lv/datasink/2ndLevel/con_0026/spmT_0001.nii\n",
      "220825-09:59:57,348 nipype.interface INFO:\n",
      "\t sub: /home/fhopp/spm/analysis/vignettes/glm/spm/second_lv/datasink/2ndLevel/_cont_id_0026/con_0001.nii -> /home/fhopp/spm/analysis/vignettes/glm/spm/second_lv/datasink/2ndLevel/con_0026/con_0001.nii\n",
      "220825-09:59:57,349 nipype.interface INFO:\n",
      "\t sub: /home/fhopp/spm/analysis/vignettes/glm/spm/second_lv/datasink/2ndLevel/_cont_id_0025/spmT_0001.nii -> /home/fhopp/spm/analysis/vignettes/glm/spm/second_lv/datasink/2ndLevel/con_0025/spmT_0001.nii\n",
      "220825-09:59:57,350 nipype.interface INFO:\n",
      "\t sub: /home/fhopp/spm/analysis/vignettes/glm/spm/second_lv/datasink/2ndLevel/_cont_id_0025/con_0001.nii -> /home/fhopp/spm/analysis/vignettes/glm/spm/second_lv/datasink/2ndLevel/con_0025/con_0001.nii\n",
      "220825-09:59:57,349 nipype.interface INFO:\n",
      "\t sub: /home/fhopp/spm/analysis/vignettes/glm/spm/second_lv/datasink/2ndLevel/_cont_id_0026/spmT_0001_thr.nii -> /home/fhopp/spm/analysis/vignettes/glm/spm/second_lv/datasink/2ndLevel/con_0026/spmT_0001_thr.nii\n",
      "220825-09:59:57,351 nipype.interface INFO:\n",
      "\t sub: /home/fhopp/spm/analysis/vignettes/glm/spm/second_lv/datasink/2ndLevel/_cont_id_0025/spmT_0001_thr.nii -> /home/fhopp/spm/analysis/vignettes/glm/spm/second_lv/datasink/2ndLevel/con_0025/spmT_0001_thr.nii\n",
      "220825-09:59:57,358 nipype.workflow INFO:\n",
      "\t [Node] Finished \"second_lv.datasink\".\n",
      "220825-09:59:57,359 nipype.workflow INFO:\n",
      "\t [Node] Finished \"second_lv.datasink\".\n",
      "220825-09:59:59,174 nipype.workflow INFO:\n",
      "\t [Job 49] Completed (second_lv.datasink).\n",
      "220825-09:59:59,175 nipype.workflow INFO:\n",
      "\t [Job 50] Completed (second_lv.datasink).\n",
      "220825-09:59:59,176 nipype.workflow INFO:\n",
      "\t [Job 51] Completed (second_lv.datasink).\n",
      "220825-09:59:59,177 nipype.workflow INFO:\n",
      "\t [Job 52] Completed (second_lv.datasink).\n",
      "220825-09:59:59,178 nipype.workflow INFO:\n",
      "\t [Job 53] Completed (second_lv.datasink).\n",
      "220825-09:59:59,180 nipype.workflow INFO:\n",
      "\t [MultiProc] Running 0 tasks, and 0 jobs ready. Free memory (GB): 28.17/28.17, Free processors: 7/7.\n"
     ]
    },
    {
     "data": {
      "text/plain": [
       "<networkx.classes.digraph.DiGraph at 0x7f455aa1e0d0>"
      ]
     },
     "execution_count": 20,
     "metadata": {},
     "output_type": "execute_result"
    }
   ],
   "source": [
    "analysis2nd.run('MultiProc', plugin_args={'n_procs': 7})"
   ]
  },
  {
   "cell_type": "markdown",
   "id": "4b42be62",
   "metadata": {},
   "source": [
    "***"
   ]
  },
  {
   "cell_type": "markdown",
   "id": "73ce21d1-2f29-4af8-82c3-28bba7d4e8e5",
   "metadata": {},
   "source": [
    "# Create Conjunction Map"
   ]
  },
  {
   "cell_type": "code",
   "execution_count": 23,
   "id": "e4b737d0-d8aa-4707-814a-f730997005e6",
   "metadata": {},
   "outputs": [],
   "source": [
    "out_path = '/home/fhopp/spm/analysis/vignettes/glm/spm/second_lv/datasink/2ndLevel/'"
   ]
  },
  {
   "cell_type": "code",
   "execution_count": 122,
   "id": "769f1e2a-2d64-4bbc-824a-ae346b20d0f1",
   "metadata": {
    "tags": []
   },
   "outputs": [
    {
     "name": "stderr",
     "output_type": "stream",
     "text": [
      "/opt/miniconda-latest/envs/neuro/lib/python3.7/site-packages/nilearn/image/resampling.py:598: RuntimeWarning: NaNs or infinite values are present in the data passed to resample. This is a bad thing as they make resampling ill-defined and much slower.\n",
      "  fill_value=fill_value)\n",
      "/opt/miniconda-latest/envs/neuro/lib/python3.7/site-packages/nilearn/image/resampling.py:598: RuntimeWarning: NaNs or infinite values are present in the data passed to resample. This is a bad thing as they make resampling ill-defined and much slower.\n",
      "  fill_value=fill_value)\n",
      "/opt/miniconda-latest/envs/neuro/lib/python3.7/site-packages/nilearn/image/resampling.py:598: RuntimeWarning: NaNs or infinite values are present in the data passed to resample. This is a bad thing as they make resampling ill-defined and much slower.\n",
      "  fill_value=fill_value)\n",
      "/opt/miniconda-latest/envs/neuro/lib/python3.7/site-packages/nilearn/image/resampling.py:598: RuntimeWarning: NaNs or infinite values are present in the data passed to resample. This is a bad thing as they make resampling ill-defined and much slower.\n",
      "  fill_value=fill_value)\n",
      "/opt/miniconda-latest/envs/neuro/lib/python3.7/site-packages/nilearn/image/resampling.py:598: RuntimeWarning: NaNs or infinite values are present in the data passed to resample. This is a bad thing as they make resampling ill-defined and much slower.\n",
      "  fill_value=fill_value)\n",
      "/opt/miniconda-latest/envs/neuro/lib/python3.7/site-packages/nilearn/image/resampling.py:598: RuntimeWarning: NaNs or infinite values are present in the data passed to resample. This is a bad thing as they make resampling ill-defined and much slower.\n",
      "  fill_value=fill_value)\n",
      "/opt/miniconda-latest/envs/neuro/lib/python3.7/site-packages/nilearn/image/resampling.py:598: RuntimeWarning: NaNs or infinite values are present in the data passed to resample. This is a bad thing as they make resampling ill-defined and much slower.\n",
      "  fill_value=fill_value)\n"
     ]
    }
   ],
   "source": [
    "from nltools import Brain_Data\n",
    "\n",
    "# Obtain thresholded maps \n",
    "group_maps = glob.glob('/home/fhopp/spm/analysis/vignettes/glm/spm/second_lv/datasink/2ndLevel/*/spmT_0001_thr.nii')\n",
    "\n",
    "# Loop over group-maps and extract t-values, store them in dataframe \n",
    "df_t = pd.DataFrame()\n",
    "for tmap in group_maps:\n",
    "    con_id = tmap.split('/')[-2].split('_')[-1]\n",
    "    # Only extract t-values for moral foundation vs. social contrasts\n",
    "    if con_id == '0025' or con_id == '0026':\n",
    "        continue\n",
    "    else:\n",
    "        tvals = pd.Series(Brain_Data(tmap).data)\n",
    "        df_t[con_id]=tvals\n",
    "        \n",
    "# Enter '1' in voxels that are > 0 across ALL effects\n",
    "df_t['conjunction'] = 0 \n",
    "for i,row in df_t.iterrows():\n",
    "    if row['0018'] > 0.0 and row['0019'] > 0.0 and row['0020'] > 0.0 and row['0021'] > 0.0 and row['0022'] > 0.0 and row['0023'] > 0.0 and row['0024'] > 0.0:\n",
    "        df_t.at[i, 'conjunction'] = 1\n",
    "    else:\n",
    "        df_t.at[i, 'conjunction'] = 0"
   ]
  },
  {
   "cell_type": "code",
   "execution_count": 129,
   "id": "fec5b6a8-7f53-4c94-a236-d4ec20b5b4bf",
   "metadata": {},
   "outputs": [
    {
     "name": "stderr",
     "output_type": "stream",
     "text": [
      "/opt/miniconda-latest/envs/neuro/lib/python3.7/site-packages/nilearn/image/resampling.py:598: RuntimeWarning: NaNs or infinite values are present in the data passed to resample. This is a bad thing as they make resampling ill-defined and much slower.\n",
      "  fill_value=fill_value)\n"
     ]
    }
   ],
   "source": [
    "# Map conjunction values onto brain\n",
    "conjunction_map = Brain_Data(group_maps[0]) \n",
    "conjunction_map.data = df_t['conjunction'].values\n",
    "conjunction_map.write(out_path+'conjunction.nii')"
   ]
  },
  {
   "cell_type": "markdown",
   "id": "5e146620",
   "metadata": {
    "tags": []
   },
   "source": [
    "# Create Cluster Tables via AtlasReader"
   ]
  },
  {
   "cell_type": "code",
   "execution_count": 21,
   "id": "b15c4eda",
   "metadata": {
    "tags": []
   },
   "outputs": [
    {
     "name": "stdout",
     "output_type": "stream",
     "text": [
      "The Python package you are importing, AtlasReader, is licensed under the\n",
      "BSD-3 license; however, the atlases it uses are separately licensed under more\n",
      "restrictive frameworks.\n",
      "By using AtlasReader, you agree to abide by the license terms of the\n",
      "individual atlases. Information on these terms can be found online at:\n",
      "https://github.com/miykael/atlasreader/tree/master/atlasreader/data\n",
      "\n"
     ]
    },
    {
     "name": "stderr",
     "output_type": "stream",
     "text": [
      "/opt/miniconda-latest/envs/neuro/lib/python3.7/site-packages/nilearn/datasets/__init__.py:89: FutureWarning: Fetchers from the nilearn.datasets module will be updated in version 0.9 to return python strings instead of bytes and Pandas dataframes instead of Numpy arrays.\n",
      "  \"Numpy arrays.\", FutureWarning)\n"
     ]
    }
   ],
   "source": [
    "# Make sure it is installed\n",
    "# !pip install atlasreader\n",
    "\n",
    "from atlasreader import create_output"
   ]
  },
  {
   "cell_type": "code",
   "execution_count": 25,
   "id": "211b0139",
   "metadata": {},
   "outputs": [
    {
     "name": "stderr",
     "output_type": "stream",
     "text": [
      "/opt/miniconda-latest/envs/neuro/lib/python3.7/site-packages/nilearn/_utils/niimg.py:62: UserWarning: Non-finite values detected. These values will be replaced with zeros.\n",
      "  \"Non-finite values detected. \"\n"
     ]
    }
   ],
   "source": [
    "stat_img = out_path+f'con_00{0+18}/spmT_0001_thr.nii'\n",
    "create_output(stat_img, outdir='clusters/carep-social', cluster_extent=0)"
   ]
  },
  {
   "cell_type": "code",
   "execution_count": 26,
   "id": "a582dcdd",
   "metadata": {},
   "outputs": [
    {
     "name": "stderr",
     "output_type": "stream",
     "text": [
      "/opt/miniconda-latest/envs/neuro/lib/python3.7/site-packages/nilearn/_utils/niimg.py:62: UserWarning: Non-finite values detected. These values will be replaced with zeros.\n",
      "  \"Non-finite values detected. \"\n"
     ]
    }
   ],
   "source": [
    "stat_img = out_path+f'con_00{1+18}/spmT_0001_thr.nii'\n",
    "create_output(stat_img, outdir='clusters/carem-social', cluster_extent=0)"
   ]
  },
  {
   "cell_type": "code",
   "execution_count": 27,
   "id": "8b3c91d5",
   "metadata": {},
   "outputs": [
    {
     "name": "stderr",
     "output_type": "stream",
     "text": [
      "/opt/miniconda-latest/envs/neuro/lib/python3.7/site-packages/nilearn/_utils/niimg.py:62: UserWarning: Non-finite values detected. These values will be replaced with zeros.\n",
      "  \"Non-finite values detected. \"\n"
     ]
    }
   ],
   "source": [
    "stat_img = out_path+f'con_00{2+18}/spmT_0001_thr.nii'\n",
    "create_output(stat_img, outdir='clusters/fair-social', cluster_extent=0)"
   ]
  },
  {
   "cell_type": "code",
   "execution_count": 28,
   "id": "83facf60",
   "metadata": {},
   "outputs": [
    {
     "name": "stderr",
     "output_type": "stream",
     "text": [
      "/opt/miniconda-latest/envs/neuro/lib/python3.7/site-packages/nilearn/_utils/niimg.py:62: UserWarning: Non-finite values detected. These values will be replaced with zeros.\n",
      "  \"Non-finite values detected. \"\n"
     ]
    }
   ],
   "source": [
    "stat_img = out_path+f'con_00{3+18}/spmT_0001_thr.nii'\n",
    "create_output(stat_img, outdir='clusters/lib-social', cluster_extent=0)"
   ]
  },
  {
   "cell_type": "code",
   "execution_count": 29,
   "id": "605ac0cf",
   "metadata": {},
   "outputs": [
    {
     "name": "stderr",
     "output_type": "stream",
     "text": [
      "/opt/miniconda-latest/envs/neuro/lib/python3.7/site-packages/nilearn/_utils/niimg.py:62: UserWarning: Non-finite values detected. These values will be replaced with zeros.\n",
      "  \"Non-finite values detected. \"\n"
     ]
    }
   ],
   "source": [
    "stat_img = out_path+f'con_00{4+18}/spmT_0001_thr.nii'\n",
    "create_output(stat_img, outdir='clusters/loy-social', cluster_extent=0)"
   ]
  },
  {
   "cell_type": "code",
   "execution_count": 30,
   "id": "37524dc2",
   "metadata": {},
   "outputs": [
    {
     "name": "stderr",
     "output_type": "stream",
     "text": [
      "/opt/miniconda-latest/envs/neuro/lib/python3.7/site-packages/nilearn/_utils/niimg.py:62: UserWarning: Non-finite values detected. These values will be replaced with zeros.\n",
      "  \"Non-finite values detected. \"\n"
     ]
    }
   ],
   "source": [
    "stat_img = out_path+f'con_00{5+18}/spmT_0001_thr.nii'\n",
    "create_output(stat_img, outdir='clusters/auth-social', cluster_extent=0)"
   ]
  },
  {
   "cell_type": "code",
   "execution_count": 31,
   "id": "b28f1103",
   "metadata": {},
   "outputs": [
    {
     "name": "stderr",
     "output_type": "stream",
     "text": [
      "/opt/miniconda-latest/envs/neuro/lib/python3.7/site-packages/nilearn/_utils/niimg.py:62: UserWarning: Non-finite values detected. These values will be replaced with zeros.\n",
      "  \"Non-finite values detected. \"\n"
     ]
    }
   ],
   "source": [
    "stat_img = out_path+f'con_00{6+18}/spmT_0001_thr.nii'\n",
    "create_output(stat_img, outdir='clusters/pur-social', cluster_extent=0)"
   ]
  },
  {
   "cell_type": "code",
   "execution_count": 32,
   "id": "4f5a7594",
   "metadata": {},
   "outputs": [
    {
     "name": "stderr",
     "output_type": "stream",
     "text": [
      "/opt/miniconda-latest/envs/neuro/lib/python3.7/site-packages/nilearn/_utils/niimg.py:62: UserWarning: Non-finite values detected. These values will be replaced with zeros.\n",
      "  \"Non-finite values detected. \"\n"
     ]
    }
   ],
   "source": [
    "stat_img = out_path+f'con_00{7+18}/spmT_0001_thr.nii'\n",
    "create_output(stat_img, outdir='clusters/bind-ind', cluster_extent=0)"
   ]
  },
  {
   "cell_type": "code",
   "execution_count": 33,
   "id": "f0b4e55b-e54f-46f7-8511-2dffed241abe",
   "metadata": {},
   "outputs": [
    {
     "name": "stderr",
     "output_type": "stream",
     "text": [
      "/opt/miniconda-latest/envs/neuro/lib/python3.7/site-packages/nilearn/_utils/niimg.py:62: UserWarning: Non-finite values detected. These values will be replaced with zeros.\n",
      "  \"Non-finite values detected. \"\n"
     ]
    }
   ],
   "source": [
    "stat_img = out_path+f'con_00{8+18}/spmT_0001_thr.nii'\n",
    "create_output(stat_img, outdir='clusters/moral-social', cluster_extent=0)"
   ]
  },
  {
   "cell_type": "code",
   "execution_count": 134,
   "id": "69cf6cfa-77f5-48fc-aad4-401b7b2904a5",
   "metadata": {},
   "outputs": [
    {
     "name": "stderr",
     "output_type": "stream",
     "text": [
      "/opt/miniconda-latest/envs/neuro/lib/python3.7/site-packages/nilearn/plotting/displays.py:880: UserWarning: empty mask\n",
      "  get_mask_bounds(new_img_like(img, not_mask, affine))\n",
      "/opt/miniconda-latest/envs/neuro/lib/python3.7/site-packages/nilearn/plotting/displays.py:880: UserWarning: empty mask\n",
      "  get_mask_bounds(new_img_like(img, not_mask, affine))\n"
     ]
    }
   ],
   "source": [
    "stat_img = out_path+f'conjunction.nii'\n",
    "create_output(stat_img, outdir='clusters/conjunction', cluster_extent=0, voxel_thresh=0)"
   ]
  },
  {
   "cell_type": "markdown",
   "id": "cb50bfd2",
   "metadata": {},
   "source": [
    "***"
   ]
  }
 ],
 "metadata": {
  "kernelspec": {
   "display_name": "Python 3 (ipykernel)",
   "language": "python",
   "name": "python3"
  },
  "language_info": {
   "codemirror_mode": {
    "name": "ipython",
    "version": 3
   },
   "file_extension": ".py",
   "mimetype": "text/x-python",
   "name": "python",
   "nbconvert_exporter": "python",
   "pygments_lexer": "ipython3",
   "version": "3.7.10"
  }
 },
 "nbformat": 4,
 "nbformat_minor": 5
}
