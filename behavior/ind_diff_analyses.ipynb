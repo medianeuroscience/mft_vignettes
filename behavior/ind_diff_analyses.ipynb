{
 "cells": [
  {
   "cell_type": "markdown",
   "metadata": {},
   "source": [
    "# Individual Differences: Political Orientation and Moral Foundations "
   ]
  },
  {
   "cell_type": "code",
   "execution_count": 1,
   "metadata": {},
   "outputs": [
    {
     "name": "stderr",
     "output_type": "stream",
     "text": [
      "/opt/miniconda-latest/envs/neuro/lib/python3.7/site-packages/nilearn/datasets/__init__.py:89: FutureWarning: Fetchers from the nilearn.datasets module will be updated in version 0.9 to return python strings instead of bytes and Pandas dataframes instead of Numpy arrays.\n",
      "  \"Numpy arrays.\", FutureWarning)\n"
     ]
    }
   ],
   "source": [
    "%matplotlib inline\n",
    "\n",
    "import os\n",
    "from joblib import Parallel, delayed\n",
    "import glob\n",
    "import numpy as np\n",
    "import pandas as pd\n",
    "import matplotlib.pyplot as plt\n",
    "import seaborn as sns\n",
    "\n",
    "from scipy import stats\n",
    "import statsmodels.formula.api as smf\n",
    "\n",
    "import pickle\n",
    "\n",
    "from rsa_utils import get_beh_sim, conditions, all_conditions, item_order, tick_labels, vig_cmap"
   ]
  },
  {
   "cell_type": "markdown",
   "metadata": {},
   "source": [
    "***"
   ]
  },
  {
   "cell_type": "markdown",
   "metadata": {},
   "source": [
    "# Behavior: Political Orientation and Moral Foundations "
   ]
  },
  {
   "cell_type": "code",
   "execution_count": 6,
   "metadata": {},
   "outputs": [],
   "source": [
    "exp_dir = '/srv/lab/fmri/mft/fhopp_diss//bids/'"
   ]
  },
  {
   "cell_type": "code",
   "execution_count": 7,
   "metadata": {},
   "outputs": [],
   "source": [
    "# Load Survey Data\n",
    "survey = pd.read_csv(os.path.join(exp_dir, 'participants.tsv'), sep='\\t')\n",
    "\n",
    "use_cols = ['care', 'fairness','loyalty', 'authority', 'sanctity', \n",
    "           'pol_af', 'pol_orient', 'age', 'gender', 'participant_id']\n",
    "survey = survey[use_cols]\n",
    "\n",
    "# Add string for affiliation\n",
    "pal_map = {1:'Democrat',2:'Republican',3:'Independent',4:'Unsure'}\n",
    "survey['pol_af'] = survey['pol_af'].map(pal_map)"
   ]
  },
  {
   "cell_type": "code",
   "execution_count": 27,
   "metadata": {},
   "outputs": [
    {
     "data": {
      "text/plain": [
       "count    61.000000\n",
       "mean     41.885246\n",
       "std      28.905650\n",
       "min       0.000000\n",
       "25%      17.000000\n",
       "50%      41.000000\n",
       "75%      68.000000\n",
       "max      95.000000\n",
       "Name: pol_orient, dtype: float64"
      ]
     },
     "execution_count": 27,
     "metadata": {},
     "output_type": "execute_result"
    }
   ],
   "source": [
    "survey['pol_orient'].describe()"
   ]
  },
  {
   "cell_type": "code",
   "execution_count": 71,
   "metadata": {},
   "outputs": [],
   "source": [
    "pd.set_option('display.max_rows', 100)"
   ]
  },
  {
   "cell_type": "code",
   "execution_count": 72,
   "metadata": {},
   "outputs": [],
   "source": [
    "pol_orient_data = survey[['sub_id','pol_orient']].dropna()\n",
    "# pol_orient_data = pol_orient_data[pol_orient_data['pol_orient']!=0]"
   ]
  },
  {
   "cell_type": "code",
   "execution_count": 73,
   "metadata": {},
   "outputs": [],
   "source": [
    "factor_mat_prep = survey[['sub_id','pol_orient']].dropna().copy()\n",
    "factor_mat_prep['repl'] = 1\n",
    "factor_mat_prep.reset_index(inplace=True)"
   ]
  },
  {
   "cell_type": "code",
   "execution_count": 74,
   "metadata": {},
   "outputs": [],
   "source": [
    "factor_mat = pd.DataFrame(index=range(0, 427), columns=['repl', 'subject', 'pol_orient', 'cond'])\n",
    "factor_mat['repl'] = 1\n",
    "sub_counter = 1 \n",
    "cond_counter = 1 \n",
    "for i,row in factor_mat.iterrows():\n",
    "    if cond_counter < 8:\n",
    "        factor_mat.at[i, 'subject'] = sub_counter \n",
    "        factor_mat.at[i, 'pol_orient'] = factor_mat_prep.at[sub_counter-1, 'pol_orient']\n",
    "        factor_mat.at[i, 'cond'] = cond_counter\n",
    "        cond_counter += 1\n",
    "    else:\n",
    "        cond_counter = 1\n",
    "        sub_counter += 1\n",
    "        factor_mat.at[i, 'subject'] = sub_counter \n",
    "        factor_mat.at[i, 'pol_orient'] = factor_mat_prep.at[sub_counter-1, 'pol_orient']\n",
    "        factor_mat.at[i, 'cond'] = cond_counter\n",
    "        cond_counter += 1"
   ]
  },
  {
   "cell_type": "code",
   "execution_count": 75,
   "metadata": {},
   "outputs": [
    {
     "data": {
      "text/html": [
       "<div>\n",
       "<style scoped>\n",
       "    .dataframe tbody tr th:only-of-type {\n",
       "        vertical-align: middle;\n",
       "    }\n",
       "\n",
       "    .dataframe tbody tr th {\n",
       "        vertical-align: top;\n",
       "    }\n",
       "\n",
       "    .dataframe thead th {\n",
       "        text-align: right;\n",
       "    }\n",
       "</style>\n",
       "<table border=\"1\" class=\"dataframe\">\n",
       "  <thead>\n",
       "    <tr style=\"text-align: right;\">\n",
       "      <th></th>\n",
       "      <th>repl</th>\n",
       "      <th>subject</th>\n",
       "      <th>pol_orient</th>\n",
       "      <th>cond</th>\n",
       "    </tr>\n",
       "  </thead>\n",
       "  <tbody>\n",
       "    <tr>\n",
       "      <th>0</th>\n",
       "      <td>1</td>\n",
       "      <td>1</td>\n",
       "      <td>9</td>\n",
       "      <td>1</td>\n",
       "    </tr>\n",
       "    <tr>\n",
       "      <th>1</th>\n",
       "      <td>1</td>\n",
       "      <td>1</td>\n",
       "      <td>9</td>\n",
       "      <td>2</td>\n",
       "    </tr>\n",
       "    <tr>\n",
       "      <th>2</th>\n",
       "      <td>1</td>\n",
       "      <td>1</td>\n",
       "      <td>9</td>\n",
       "      <td>3</td>\n",
       "    </tr>\n",
       "    <tr>\n",
       "      <th>3</th>\n",
       "      <td>1</td>\n",
       "      <td>1</td>\n",
       "      <td>9</td>\n",
       "      <td>4</td>\n",
       "    </tr>\n",
       "    <tr>\n",
       "      <th>4</th>\n",
       "      <td>1</td>\n",
       "      <td>1</td>\n",
       "      <td>9</td>\n",
       "      <td>5</td>\n",
       "    </tr>\n",
       "    <tr>\n",
       "      <th>...</th>\n",
       "      <td>...</td>\n",
       "      <td>...</td>\n",
       "      <td>...</td>\n",
       "      <td>...</td>\n",
       "    </tr>\n",
       "    <tr>\n",
       "      <th>422</th>\n",
       "      <td>1</td>\n",
       "      <td>61</td>\n",
       "      <td>28</td>\n",
       "      <td>3</td>\n",
       "    </tr>\n",
       "    <tr>\n",
       "      <th>423</th>\n",
       "      <td>1</td>\n",
       "      <td>61</td>\n",
       "      <td>28</td>\n",
       "      <td>4</td>\n",
       "    </tr>\n",
       "    <tr>\n",
       "      <th>424</th>\n",
       "      <td>1</td>\n",
       "      <td>61</td>\n",
       "      <td>28</td>\n",
       "      <td>5</td>\n",
       "    </tr>\n",
       "    <tr>\n",
       "      <th>425</th>\n",
       "      <td>1</td>\n",
       "      <td>61</td>\n",
       "      <td>28</td>\n",
       "      <td>6</td>\n",
       "    </tr>\n",
       "    <tr>\n",
       "      <th>426</th>\n",
       "      <td>1</td>\n",
       "      <td>61</td>\n",
       "      <td>28</td>\n",
       "      <td>7</td>\n",
       "    </tr>\n",
       "  </tbody>\n",
       "</table>\n",
       "<p>427 rows × 4 columns</p>\n",
       "</div>"
      ],
      "text/plain": [
       "     repl subject pol_orient cond\n",
       "0       1       1          9    1\n",
       "1       1       1          9    2\n",
       "2       1       1          9    3\n",
       "3       1       1          9    4\n",
       "4       1       1          9    5\n",
       "..    ...     ...        ...  ...\n",
       "422     1      61         28    3\n",
       "423     1      61         28    4\n",
       "424     1      61         28    5\n",
       "425     1      61         28    6\n",
       "426     1      61         28    7\n",
       "\n",
       "[427 rows x 4 columns]"
      ]
     },
     "execution_count": 75,
     "metadata": {},
     "output_type": "execute_result"
    }
   ],
   "source": [
    "factor_mat"
   ]
  },
  {
   "cell_type": "code",
   "execution_count": 78,
   "metadata": {},
   "outputs": [],
   "source": [
    "factor_mat.to_csv('factor_mat.csv', index=False)"
   ]
  },
  {
   "cell_type": "code",
   "execution_count": 8,
   "metadata": {},
   "outputs": [],
   "source": [
    "survey_long = survey[['pol_orient','pol_af']].melt(id_vars=['pol_af'], value_name='Political Orientation')\n",
    "survey_long = survey_long.rename(columns={'pol_af':'Political Affiliation'})"
   ]
  },
  {
   "cell_type": "code",
   "execution_count": 9,
   "metadata": {},
   "outputs": [],
   "source": [
    "ptx_cmap = sns.color_palette('bright', 8)\n",
    "ptx_cmap = [ptx_cmap[0], ptx_cmap[3], ptx_cmap[4], ptx_cmap[7]]"
   ]
  },
  {
   "cell_type": "markdown",
   "metadata": {},
   "source": [
    "## Political Orientation X Political Affilation"
   ]
  },
  {
   "cell_type": "code",
   "execution_count": 10,
   "metadata": {},
   "outputs": [
    {
     "data": {
      "text/plain": [
       "Republican     23\n",
       "Democrat       18\n",
       "Independent    17\n",
       "Unsure          6\n",
       "Name: pol_af, dtype: int64"
      ]
     },
     "execution_count": 10,
     "metadata": {},
     "output_type": "execute_result"
    }
   ],
   "source": [
    "survey['pol_af'].value_counts()"
   ]
  },
  {
   "cell_type": "code",
   "execution_count": 11,
   "metadata": {},
   "outputs": [
    {
     "name": "stdout",
     "output_type": "stream",
     "text": [
      "Median value for political orientation is: 41.0\n"
     ]
    }
   ],
   "source": [
    "print('Median value for political orientation is:', survey['pol_orient'].median())"
   ]
  },
  {
   "cell_type": "code",
   "execution_count": 12,
   "metadata": {},
   "outputs": [],
   "source": [
    "plt.style.use(\"seaborn-poster\")"
   ]
  },
  {
   "cell_type": "code",
   "execution_count": 14,
   "metadata": {},
   "outputs": [
    {
     "data": {
      "image/png": "[encoded data removed]",
      "text/plain": [
       "<Figure size 504x360 with 1 Axes>"
      ]
     },
     "metadata": {
      "needs_background": "light"
     },
     "output_type": "display_data"
    }
   ],
   "source": [
    "f, ax = plt.subplots(figsize=(7, 5))\n",
    "sns.histplot(x='Political Orientation', hue='Political Affiliation', bins=20,ax=ax,\n",
    "             data=survey_long, hue_order=pal_map.values(), palette=ptx_cmap)\n",
    "sns.despine()\n",
    "plt.ylabel('Frequency', fontsize=20)\n",
    "plt.xlabel('Political Orientation', fontsize=20)\n",
    "plt.tight_layout()\n",
    "#plt.savefig('new_plots/sample_dist.png', dpi=200, bbox_inches='tight')\n",
    "plt.show()"
   ]
  },
  {
   "cell_type": "markdown",
   "metadata": {},
   "source": [
    "## Political Affiliation X Moral Foundations Questionnaire"
   ]
  },
  {
   "cell_type": "code",
   "execution_count": 15,
   "metadata": {},
   "outputs": [],
   "source": [
    "mfq_polx = survey[['pol_orient','care', 'fairness','loyalty', 'authority', 'sanctity']].melt(id_vars='pol_orient')\n",
    "\n",
    "mfq_cmap = sns.color_palette(\"bright\", 8)\n",
    "mfq_cmap = [mfq_cmap[0], mfq_cmap[2], mfq_cmap[4], mfq_cmap[5], mfq_cmap[6]]\n",
    "mfq_polx['variable'] = mfq_polx['variable'].str.capitalize()"
   ]
  },
  {
   "cell_type": "code",
   "execution_count": 16,
   "metadata": {},
   "outputs": [
    {
     "data": {
      "image/png": "[encoded data removed]",
      "text/plain": [
       "<Figure size 492.1x360 with 1 Axes>"
      ]
     },
     "metadata": {
      "needs_background": "light"
     },
     "output_type": "display_data"
    }
   ],
   "source": [
    "sns.lmplot(x='pol_orient', y='value', hue='variable', data=mfq_polx, aspect=1, scatter=False, palette=mfq_cmap)\n",
    "plt.ylim(0, 5)\n",
    "sns.despine()\n",
    "plt.ylabel('MFQ Mean Response', fontsize=20)\n",
    "plt.xlabel('Political Orientation', fontsize=20)\n",
    "#plt.savefig('new_plots/polx_mfq.png', dpi=200, bbox_inches='tight')\n",
    "plt.show()"
   ]
  },
  {
   "cell_type": "code",
   "execution_count": 17,
   "metadata": {},
   "outputs": [],
   "source": [
    "care_model = smf.ols(formula='care ~ pol_orient + age + gender', data=survey).fit()\n",
    "fair_model = smf.ols(formula='fairness ~ pol_orient + age + gender', data=survey).fit()\n",
    "loy_model = smf.ols(formula='loyalty ~ pol_orient + age + gender', data=survey).fit()\n",
    "auth_model = smf.ols(formula='authority ~ pol_orient + age + gender', data=survey).fit()\n",
    "sanc_model = smf.ols(formula='sanctity ~ pol_orient + age + gender', data=survey).fit()"
   ]
  },
  {
   "cell_type": "code",
   "execution_count": 18,
   "metadata": {},
   "outputs": [
    {
     "name": "stdout",
     "output_type": "stream",
     "text": [
      "                 Results: Ordinary least squares\n",
      "=================================================================\n",
      "Model:              OLS              Adj. R-squared:     0.186   \n",
      "Dependent Variable: care             AIC:                96.6112 \n",
      "Date:               2023-02-11 09:55 BIC:                105.0547\n",
      "No. Observations:   61               Log-Likelihood:     -44.306 \n",
      "Df Model:           3                F-statistic:        5.569   \n",
      "Df Residuals:       57               Prob (F-statistic): 0.00202 \n",
      "R-squared:          0.227            Scale:              0.26783 \n",
      "------------------------------------------------------------------\n",
      "                Coef.   Std.Err.     t     P>|t|    [0.025  0.975]\n",
      "------------------------------------------------------------------\n",
      "Intercept       2.7973    0.7831   3.5723  0.0007   1.2293  4.3654\n",
      "pol_orient     -0.0046    0.0025  -1.8855  0.0645  -0.0095  0.0003\n",
      "age             0.0218    0.0323   0.6770  0.5011  -0.0428  0.0864\n",
      "gender          0.4629    0.1361   3.4021  0.0012   0.1904  0.7353\n",
      "-----------------------------------------------------------------\n",
      "Omnibus:               4.272        Durbin-Watson:          1.607\n",
      "Prob(Omnibus):         0.118        Jarque-Bera (JB):       2.157\n",
      "Skew:                  -0.160       Prob(JB):               0.340\n",
      "Kurtosis:              2.136        Condition No.:          636  \n",
      "=================================================================\n",
      "\n",
      "                Results: Ordinary least squares\n",
      "================================================================\n",
      "Model:              OLS              Adj. R-squared:     0.068  \n",
      "Dependent Variable: fairness         AIC:                88.6093\n",
      "Date:               2023-02-11 09:55 BIC:                97.0528\n",
      "No. Observations:   61               Log-Likelihood:     -40.305\n",
      "Df Model:           3                F-statistic:        2.452  \n",
      "Df Residuals:       57               Prob (F-statistic): 0.0726 \n",
      "R-squared:          0.114            Scale:              0.23490\n",
      "-----------------------------------------------------------------\n",
      "              Coef.   Std.Err.     t     P>|t|    [0.025   0.975]\n",
      "-----------------------------------------------------------------\n",
      "Intercept     3.7275    0.7333   5.0829  0.0000   2.2590   5.1960\n",
      "pol_orient   -0.0055    0.0023  -2.3858  0.0204  -0.0101  -0.0009\n",
      "age           0.0125    0.0302   0.4144  0.6801  -0.0480   0.0730\n",
      "gender        0.0270    0.1274   0.2121  0.8328  -0.2281   0.2822\n",
      "----------------------------------------------------------------\n",
      "Omnibus:              0.646        Durbin-Watson:          1.877\n",
      "Prob(Omnibus):        0.724        Jarque-Bera (JB):       0.609\n",
      "Skew:                 -0.231       Prob(JB):               0.738\n",
      "Kurtosis:             2.836        Condition No.:          636  \n",
      "================================================================\n",
      "\n",
      "                 Results: Ordinary least squares\n",
      "=================================================================\n",
      "Model:              OLS              Adj. R-squared:     0.102   \n",
      "Dependent Variable: loyalty          AIC:                109.1291\n",
      "Date:               2023-02-11 09:55 BIC:                117.5726\n",
      "No. Observations:   61               Log-Likelihood:     -50.565 \n",
      "Df Model:           3                F-statistic:        3.282   \n",
      "Df Residuals:       57               Prob (F-statistic): 0.0272  \n",
      "R-squared:          0.147            Scale:              0.32883 \n",
      "------------------------------------------------------------------\n",
      "                Coef.   Std.Err.     t     P>|t|    [0.025  0.975]\n",
      "------------------------------------------------------------------\n",
      "Intercept       3.7913    0.8677   4.3695  0.0001   2.0539  5.5288\n",
      "pol_orient      0.0064    0.0027   2.3434  0.0226   0.0009  0.0118\n",
      "age            -0.0309    0.0357  -0.8642  0.3911  -0.1025  0.0407\n",
      "gender         -0.1945    0.1508  -1.2900  0.2023  -0.4963  0.1074\n",
      "-----------------------------------------------------------------\n",
      "Omnibus:               6.043        Durbin-Watson:          1.775\n",
      "Prob(Omnibus):         0.049        Jarque-Bera (JB):       5.218\n",
      "Skew:                  -0.688       Prob(JB):               0.074\n",
      "Kurtosis:              3.398        Condition No.:          636  \n",
      "=================================================================\n",
      "\n",
      "                 Results: Ordinary least squares\n",
      "=================================================================\n",
      "Model:              OLS              Adj. R-squared:     0.205   \n",
      "Dependent Variable: authority        AIC:                113.8553\n",
      "Date:               2023-02-11 09:55 BIC:                122.2988\n",
      "No. Observations:   61               Log-Likelihood:     -52.928 \n",
      "Df Model:           3                F-statistic:        6.147   \n",
      "Df Residuals:       57               Prob (F-statistic): 0.00108 \n",
      "R-squared:          0.244            Scale:              0.35533 \n",
      "------------------------------------------------------------------\n",
      "                Coef.   Std.Err.     t     P>|t|    [0.025  0.975]\n",
      "------------------------------------------------------------------\n",
      "Intercept       2.2570    0.9019   2.5023  0.0152   0.4509  4.0631\n",
      "pol_orient      0.0119    0.0028   4.1996  0.0001   0.0062  0.0175\n",
      "age             0.0239    0.0372   0.6425  0.5231  -0.0505  0.0983\n",
      "gender         -0.0336    0.1567  -0.2147  0.8308  -0.3474  0.2802\n",
      "-----------------------------------------------------------------\n",
      "Omnibus:               4.862        Durbin-Watson:          1.672\n",
      "Prob(Omnibus):         0.088        Jarque-Bera (JB):       3.879\n",
      "Skew:                  -0.529       Prob(JB):               0.144\n",
      "Kurtosis:              3.638        Condition No.:          636  \n",
      "=================================================================\n",
      "\n",
      "                 Results: Ordinary least squares\n",
      "=================================================================\n",
      "Model:              OLS              Adj. R-squared:     0.193   \n",
      "Dependent Variable: sanctity         AIC:                129.3241\n",
      "Date:               2023-02-11 09:55 BIC:                137.7676\n",
      "No. Observations:   61               Log-Likelihood:     -60.662 \n",
      "Df Model:           3                F-statistic:        5.792   \n",
      "Df Residuals:       57               Prob (F-statistic): 0.00158 \n",
      "R-squared:          0.234            Scale:              0.45789 \n",
      "------------------------------------------------------------------\n",
      "                Coef.   Std.Err.     t     P>|t|    [0.025  0.975]\n",
      "------------------------------------------------------------------\n",
      "Intercept       1.6459    1.0239   1.6075  0.1135  -0.4044  3.6962\n",
      "pol_orient      0.0132    0.0032   4.1077  0.0001   0.0067  0.0196\n",
      "age             0.0314    0.0422   0.7438  0.4600  -0.0531  0.1158\n",
      "gender         -0.0086    0.1779  -0.0486  0.9614  -0.3649  0.3476\n",
      "-----------------------------------------------------------------\n",
      "Omnibus:               4.403        Durbin-Watson:          1.973\n",
      "Prob(Omnibus):         0.111        Jarque-Bera (JB):       2.818\n",
      "Skew:                  -0.339       Prob(JB):               0.244\n",
      "Kurtosis:              2.194        Condition No.:          636  \n",
      "=================================================================\n",
      "\n"
     ]
    }
   ],
   "source": [
    "print(care_model.summary2())\n",
    "print(fair_model.summary2())\n",
    "print(loy_model.summary2())\n",
    "print(auth_model.summary2())\n",
    "print(sanc_model.summary2())"
   ]
  },
  {
   "cell_type": "markdown",
   "metadata": {},
   "source": [
    "## Political Affilation X Moral Foundation Vignettes"
   ]
  },
  {
   "cell_type": "code",
   "execution_count": 19,
   "metadata": {},
   "outputs": [],
   "source": [
    "vig_beh_files = glob.glob(os.path.join(exp_dir, 'sub-*/beh/sub-*_task-vignette_*_beh.tsv'))\n",
    "vig_beh_dfs = []\n",
    "for file in vig_beh_files:\n",
    "    df = pd.read_csv(file, sep='\\t')\n",
    "    df['run'] = int(file.split('/')[-1].split('-')[-1].split('_')[0])\n",
    "    vig_beh_dfs.append(df)\n",
    "vig_beh = pd.concat(vig_beh_dfs)\n",
    "vig_beh['item'] = vig_beh['stim_file'].apply(lambda x: x.split('/')[-1].split('.')[0])\n",
    "vig_beh = vig_beh.reset_index()[['sub_id','item','trial_type','run','moral_decision','RT']].sort_values(\"sub_id\")\n",
    "\n",
    "cond_medians = vig_beh.groupby('trial_type')['moral_decision'].median()\n",
    "for cond, median in cond_medians.iteritems():\n",
    "    mask = vig_beh[vig_beh['trial_type']==cond].index\n",
    "    vig_beh.loc[mask, 'moral_decision'] = vig_beh.loc[mask, 'moral_decision'].fillna(median)"
   ]
  },
  {
   "cell_type": "code",
   "execution_count": 20,
   "metadata": {},
   "outputs": [],
   "source": [
    "survey = survey.rename(columns={'participant_id':'sub_id'})"
   ]
  },
  {
   "cell_type": "code",
   "execution_count": 21,
   "metadata": {},
   "outputs": [],
   "source": [
    "# survey = survey.rename(columns={'participant_id':'sub_id'})\n",
    "vig_beh = survey.merge(vig_beh)\n",
    "vig_beh = vig_beh.rename(columns={'pol_af':'Political Affiliation'})\n",
    "mfv_map = {'carep': 'Physical Care', 'carem':'Emotional Care', 'fair':'Fairness',\n",
    "          'lib':'Liberty', 'loy':'Loyalty', 'auth':'Authority', 'pur':'Sanctity', \n",
    "          'socn':'Social Norms'}\n",
    "vig_beh['trial_type'] = vig_beh['trial_type'].map(mfv_map)\n",
    "vig_beh = vig_beh.rename(columns={'trial_type':'MFV'})"
   ]
  },
  {
   "cell_type": "code",
   "execution_count": 22,
   "metadata": {},
   "outputs": [
    {
     "data": {
      "image/png": "[encoded data removed]",
      "text/plain": [
       "<Figure size 540.6x360 with 1 Axes>"
      ]
     },
     "metadata": {
      "needs_background": "light"
     },
     "output_type": "display_data"
    }
   ],
   "source": [
    "sns.lmplot(x='pol_orient', y='moral_decision', hue='MFV', data=vig_beh, scatter=False, hue_order=mfv_map.values(),\n",
    "          palette='bright')\n",
    "plt.ylim(1, 4)\n",
    "sns.despine()\n",
    "plt.ylabel('MFV Mean Response', fontsize=20)\n",
    "plt.xlabel('Political Orientation', fontsize=20)\n",
    "#plt.savefig('new_plots/polx_mfv.png', dpi=200, bbox_inches='tight')\n",
    "plt.show()"
   ]
  },
  {
   "cell_type": "code",
   "execution_count": 23,
   "metadata": {},
   "outputs": [],
   "source": [
    "carep_model = smf.ols(formula='moral_decision ~ pol_orient + age + gender', data=vig_beh[vig_beh['MFV']=='Physical Care']).fit()\n",
    "carem_model = smf.ols(formula='moral_decision ~ pol_orient + age + gender', data=vig_beh[vig_beh['MFV']=='Emotional Care']).fit()\n",
    "fair_model = smf.ols(formula='moral_decision ~ pol_orient + age + gender', data=vig_beh[vig_beh['MFV']=='Fairness']).fit()\n",
    "lib_model = smf.ols(formula='moral_decision ~ pol_orient + age + gender', data=vig_beh[vig_beh['MFV']=='Liberty']).fit()\n",
    "loy_model = smf.ols(formula='moral_decision ~ pol_orient + age + gender', data=vig_beh[vig_beh['MFV']=='Loyalty']).fit()\n",
    "auth_model = smf.ols(formula='moral_decision ~ pol_orient + age + gender', data=vig_beh[vig_beh['MFV']=='Authority']).fit()\n",
    "sanc_model = smf.ols(formula='moral_decision ~ pol_orient + age + gender', data=vig_beh[vig_beh['MFV']=='Sanctity']).fit()\n",
    "socn_model = smf.ols(formula='moral_decision ~ pol_orient + age + gender', data=vig_beh[vig_beh['MFV']=='Social Norms']).fit()"
   ]
  },
  {
   "cell_type": "code",
   "execution_count": 24,
   "metadata": {},
   "outputs": [
    {
     "name": "stdout",
     "output_type": "stream",
     "text": [
      "Physical Care\n",
      "                 Results: Ordinary least squares\n",
      "==================================================================\n",
      "Model:              OLS              Adj. R-squared:     0.032    \n",
      "Dependent Variable: moral_decision   AIC:                2231.2500\n",
      "Date:               2023-02-11 09:55 BIC:                2250.5038\n",
      "No. Observations:   910              Log-Likelihood:     -1111.6  \n",
      "Df Model:           3                F-statistic:        10.93    \n",
      "Df Residuals:       906              Prob (F-statistic): 4.71e-07 \n",
      "R-squared:          0.035            Scale:              0.67683  \n",
      "-------------------------------------------------------------------\n",
      "                Coef.   Std.Err.     t     P>|t|    [0.025   0.975]\n",
      "-------------------------------------------------------------------\n",
      "Intercept       3.5176    0.3217  10.9330  0.0000   2.8862   4.1491\n",
      "pol_orient     -0.0038    0.0010  -3.7303  0.0002  -0.0057  -0.0018\n",
      "age            -0.0231    0.0132  -1.7445  0.0814  -0.0491   0.0029\n",
      "gender          0.2122    0.0560   3.7884  0.0002   0.1023   0.3222\n",
      "------------------------------------------------------------------\n",
      "Omnibus:               66.646       Durbin-Watson:          1.455 \n",
      "Prob(Omnibus):         0.000        Jarque-Bera (JB):       78.321\n",
      "Skew:                  -0.705       Prob(JB):               0.000 \n",
      "Kurtosis:              2.718        Condition No.:          634   \n",
      "==================================================================\n",
      "\n",
      "Emotional Care\n",
      "                 Results: Ordinary least squares\n",
      "==================================================================\n",
      "Model:              OLS              Adj. R-squared:     0.007    \n",
      "Dependent Variable: moral_decision   AIC:                2282.4410\n",
      "Date:               2023-02-11 09:55 BIC:                2301.6947\n",
      "No. Observations:   910              Log-Likelihood:     -1137.2  \n",
      "Df Model:           3                F-statistic:        3.084    \n",
      "Df Residuals:       906              Prob (F-statistic): 0.0266   \n",
      "R-squared:          0.010            Scale:              0.71599  \n",
      "-------------------------------------------------------------------\n",
      "                 Coef.   Std.Err.     t     P>|t|    [0.025  0.975]\n",
      "-------------------------------------------------------------------\n",
      "Intercept        3.0969    0.3309   9.3585  0.0000   2.4475  3.7464\n",
      "pol_orient       0.0001    0.0010   0.1004  0.9200  -0.0019  0.0021\n",
      "age             -0.0186    0.0136  -1.3666  0.1721  -0.0453  0.0081\n",
      "gender           0.1312    0.0576   2.2764  0.0231   0.0181  0.2442\n",
      "------------------------------------------------------------------\n",
      "Omnibus:               64.127       Durbin-Watson:          1.423 \n",
      "Prob(Omnibus):         0.000        Jarque-Bera (JB):       30.955\n",
      "Skew:                  -0.264       Prob(JB):               0.000 \n",
      "Kurtosis:              2.267        Condition No.:          634   \n",
      "==================================================================\n",
      "\n",
      "Fairness\n",
      "                 Results: Ordinary least squares\n",
      "==================================================================\n",
      "Model:              OLS              Adj. R-squared:     0.011    \n",
      "Dependent Variable: moral_decision   AIC:                2224.6903\n",
      "Date:               2023-02-11 09:55 BIC:                2243.9441\n",
      "No. Observations:   910              Log-Likelihood:     -1108.3  \n",
      "Df Model:           3                F-statistic:        4.500    \n",
      "Df Residuals:       906              Prob (F-statistic): 0.00383  \n",
      "R-squared:          0.015            Scale:              0.67197  \n",
      "--------------------------------------------------------------------\n",
      "              Coef.    Std.Err.     t      P>|t|     [0.025   0.975]\n",
      "--------------------------------------------------------------------\n",
      "Intercept     2.3325     0.3206   7.2757   0.0000    1.7033   2.9617\n",
      "pol_orient    0.0025     0.0010   2.5062   0.0124    0.0005   0.0045\n",
      "age           0.0178     0.0132   1.3484   0.1779   -0.0081   0.0437\n",
      "gender        0.1606     0.0558   2.8765   0.0041    0.0510   0.2701\n",
      "------------------------------------------------------------------\n",
      "Omnibus:               58.159       Durbin-Watson:          1.542 \n",
      "Prob(Omnibus):         0.000        Jarque-Bera (JB):       40.431\n",
      "Skew:                  -0.404       Prob(JB):               0.000 \n",
      "Kurtosis:              2.357        Condition No.:          634   \n",
      "==================================================================\n",
      "\n",
      "Liberty\n",
      "                 Results: Ordinary least squares\n",
      "==================================================================\n",
      "Model:              OLS              Adj. R-squared:     0.016    \n",
      "Dependent Variable: moral_decision   AIC:                2284.8091\n",
      "Date:               2023-02-11 09:55 BIC:                2304.0629\n",
      "No. Observations:   910              Log-Likelihood:     -1138.4  \n",
      "Df Model:           3                F-statistic:        5.819    \n",
      "Df Residuals:       906              Prob (F-statistic): 0.000613 \n",
      "R-squared:          0.019            Scale:              0.71786  \n",
      "-------------------------------------------------------------------\n",
      "                Coef.   Std.Err.     t     P>|t|    [0.025   0.975]\n",
      "-------------------------------------------------------------------\n",
      "Intercept       3.5739    0.3314  10.7857  0.0000   2.9236   4.2242\n",
      "pol_orient     -0.0035    0.0010  -3.4170  0.0007  -0.0056  -0.0015\n",
      "age            -0.0273    0.0136  -1.9988  0.0459  -0.0540  -0.0005\n",
      "gender          0.0981    0.0577   1.6999  0.0895  -0.0152   0.2113\n",
      "------------------------------------------------------------------\n",
      "Omnibus:               47.728       Durbin-Watson:          1.535 \n",
      "Prob(Omnibus):         0.000        Jarque-Bera (JB):       42.488\n",
      "Skew:                  -0.463       Prob(JB):               0.000 \n",
      "Kurtosis:              2.488        Condition No.:          634   \n",
      "==================================================================\n",
      "\n",
      "Loyalty\n",
      "                 Results: Ordinary least squares\n",
      "==================================================================\n",
      "Model:              OLS              Adj. R-squared:     0.043    \n",
      "Dependent Variable: moral_decision   AIC:                2358.9165\n",
      "Date:               2023-02-11 09:55 BIC:                2378.1703\n",
      "No. Observations:   910              Log-Likelihood:     -1175.5  \n",
      "Df Model:           3                F-statistic:        14.65    \n",
      "Df Residuals:       906              Prob (F-statistic): 2.55e-09 \n",
      "R-squared:          0.046            Scale:              0.77876  \n",
      "-------------------------------------------------------------------\n",
      "                 Coef.   Std.Err.     t     P>|t|    [0.025  0.975]\n",
      "-------------------------------------------------------------------\n",
      "Intercept        2.5687    0.3451   7.4429  0.0000   1.8914  3.2461\n",
      "pol_orient       0.0061    0.0011   5.6068  0.0000   0.0039  0.0082\n",
      "age             -0.0206    0.0142  -1.4524  0.1467  -0.0485  0.0072\n",
      "gender          -0.0417    0.0601  -0.6934  0.4883  -0.1596  0.0763\n",
      "------------------------------------------------------------------\n",
      "Omnibus:               47.479       Durbin-Watson:          1.201 \n",
      "Prob(Omnibus):         0.000        Jarque-Bera (JB):       25.186\n",
      "Skew:                  0.234        Prob(JB):               0.000 \n",
      "Kurtosis:              2.332        Condition No.:          634   \n",
      "==================================================================\n",
      "\n",
      "Authority\n",
      "                 Results: Ordinary least squares\n",
      "==================================================================\n",
      "Model:              OLS              Adj. R-squared:     0.103    \n",
      "Dependent Variable: moral_decision   AIC:                2022.1280\n",
      "Date:               2023-02-11 09:55 BIC:                2041.3818\n",
      "No. Observations:   910              Log-Likelihood:     -1007.1  \n",
      "Df Model:           3                F-statistic:        35.67    \n",
      "Df Residuals:       906              Prob (F-statistic): 8.59e-22 \n",
      "R-squared:          0.106            Scale:              0.53787  \n",
      "--------------------------------------------------------------------\n",
      "             Coef.    Std.Err.      t      P>|t|     [0.025   0.975]\n",
      "--------------------------------------------------------------------\n",
      "Intercept    1.7668     0.2868    6.1598   0.0000    1.2039   2.3297\n",
      "pol_orient   0.0090     0.0009   10.0675   0.0000    0.0073   0.0108\n",
      "age          0.0130     0.0118    1.1036   0.2700   -0.0101   0.0362\n",
      "gender       0.0213     0.0499    0.4265   0.6699   -0.0767   0.1193\n",
      "------------------------------------------------------------------\n",
      "Omnibus:               16.359       Durbin-Watson:          1.366 \n",
      "Prob(Omnibus):         0.000        Jarque-Bera (JB):       10.250\n",
      "Skew:                  0.097        Prob(JB):               0.006 \n",
      "Kurtosis:              2.518        Condition No.:          634   \n",
      "==================================================================\n",
      "\n",
      "Sanctity\n",
      "                 Results: Ordinary least squares\n",
      "==================================================================\n",
      "Model:              OLS              Adj. R-squared:     0.057    \n",
      "Dependent Variable: moral_decision   AIC:                2475.1934\n",
      "Date:               2023-02-11 09:55 BIC:                2494.4471\n",
      "No. Observations:   910              Log-Likelihood:     -1233.6  \n",
      "Df Model:           3                F-statistic:        19.29    \n",
      "Df Residuals:       906              Prob (F-statistic): 3.93e-12 \n",
      "R-squared:          0.060            Scale:              0.88491  \n",
      "-------------------------------------------------------------------\n",
      "                 Coef.   Std.Err.     t     P>|t|    [0.025  0.975]\n",
      "-------------------------------------------------------------------\n",
      "Intercept        2.7703    0.3679   7.5301  0.0000   2.0482  3.4923\n",
      "pol_orient       0.0080    0.0012   6.9896  0.0000   0.0058  0.0103\n",
      "age             -0.0073    0.0151  -0.4796  0.6316  -0.0370  0.0225\n",
      "gender           0.0239    0.0641   0.3726  0.7095  -0.1018  0.1496\n",
      "------------------------------------------------------------------\n",
      "Omnibus:               92.193       Durbin-Watson:          1.457 \n",
      "Prob(Omnibus):         0.000        Jarque-Bera (JB):       53.578\n",
      "Skew:                  -0.454       Prob(JB):               0.000 \n",
      "Kurtosis:              2.232        Condition No.:          634   \n",
      "==================================================================\n",
      "\n",
      "Social Norms\n",
      "                 Results: Ordinary least squares\n",
      "==================================================================\n",
      "Model:              OLS              Adj. R-squared:     0.028    \n",
      "Dependent Variable: moral_decision   AIC:                1164.7029\n",
      "Date:               2023-02-11 09:55 BIC:                1183.9566\n",
      "No. Observations:   910              Log-Likelihood:     -578.35  \n",
      "Df Model:           3                F-statistic:        9.640    \n",
      "Df Residuals:       906              Prob (F-statistic): 2.87e-06 \n",
      "R-squared:          0.031            Scale:              0.20964  \n",
      "-------------------------------------------------------------------\n",
      "                Coef.   Std.Err.     t     P>|t|    [0.025   0.975]\n",
      "-------------------------------------------------------------------\n",
      "Intercept       1.2845    0.1791   7.1735  0.0000   0.9331   1.6359\n",
      "pol_orient      0.0021    0.0006   3.7560  0.0002   0.0010   0.0032\n",
      "age            -0.0035    0.0074  -0.4720  0.6370  -0.0179   0.0110\n",
      "gender         -0.1058    0.0312  -3.3924  0.0007  -0.1670  -0.0446\n",
      "------------------------------------------------------------------\n",
      "Omnibus:             732.405      Durbin-Watson:         1.279    \n",
      "Prob(Omnibus):       0.000        Jarque-Bera (JB):      11625.133\n",
      "Skew:                3.740        Prob(JB):              0.000    \n",
      "Kurtosis:            18.831       Condition No.:         634      \n",
      "==================================================================\n",
      "\n"
     ]
    }
   ],
   "source": [
    "print('Physical Care')\n",
    "print(carep_model.summary2())\n",
    "print('Emotional Care')\n",
    "print(carem_model.summary2())\n",
    "print('Fairness')\n",
    "print(fair_model.summary2())\n",
    "print('Liberty')\n",
    "print(lib_model.summary2())\n",
    "print('Loyalty')\n",
    "print(loy_model.summary2())\n",
    "print('Authority')\n",
    "print(auth_model.summary2())\n",
    "print('Sanctity')\n",
    "print(sanc_model.summary2())\n",
    "print('Social Norms')\n",
    "print(socn_model.summary2())"
   ]
  },
  {
   "cell_type": "markdown",
   "metadata": {},
   "source": [
    "***"
   ]
  }
 ],
 "metadata": {
  "kernelspec": {
   "display_name": "Python 3",
   "language": "python",
   "name": "python3"
  },
  "language_info": {
   "codemirror_mode": {
    "name": "ipython",
    "version": 3
   },
   "file_extension": ".py",
   "mimetype": "text/x-python",
   "name": "python",
   "nbconvert_exporter": "python",
   "pygments_lexer": "ipython3",
   "version": "3.7.9"
  }
 },
 "nbformat": 4,
 "nbformat_minor": 4
}
